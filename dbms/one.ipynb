{
    "metadata": {
        "kernelspec": {
            "name": "SQL",
            "display_name": "SQL",
            "language": "sql"
        },
        "language_info": {
            "name": "sql",
            "version": ""
        }
    },
    "nbformat_minor": 2,
    "nbformat": 4,
    "cells": [
        {
            "cell_type": "code",
            "source": [
                "CREATE TABLE stu_details (\n",
                "    reg_no INT PRIMARY KEY,\n",
                "    stu_name VARCHAR(50),\n",
                "    DOB DATE,\n",
                "    address VARCHAR(100),\n",
                "    city VARCHAR(50)\n",
                ");"
            ],
            "metadata": {
                "azdata_cell_guid": "035652c2-9d11-4885-8fff-0c06741540fe",
                "language": "sql"
            },
            "outputs": [
                {
                    "output_type": "display_data",
                    "data": {
                        "text/html": "Commands completed successfully"
                    },
                    "metadata": {}
                },
                {
                    "output_type": "display_data",
                    "data": {
                        "text/html": "Total execution time: 00:00:00.033"
                    },
                    "metadata": {}
                }
            ],
            "execution_count": 10
        },
        {
            "cell_type": "code",
            "source": [
                "CREATE TABLE mark_details (\n",
                "    reg_no INT PRIMARY KEY,\n",
                "    mark1 INT,\n",
                "    mark2 INT,\n",
                "    mark3 INT,\n",
                "    total INT\n",
                ");"
            ],
            "metadata": {
                "azdata_cell_guid": "59500a37-a0ce-4def-b4d8-fd9a55be124c",
                "language": "sql"
            },
            "outputs": [
                {
                    "output_type": "display_data",
                    "data": {
                        "text/html": "Commands completed successfully"
                    },
                    "metadata": {}
                },
                {
                    "output_type": "display_data",
                    "data": {
                        "text/html": "Total execution time: 00:00:00.036"
                    },
                    "metadata": {}
                }
            ],
            "execution_count": 11
        },
        {
            "cell_type": "code",
            "source": [
                "INSERT INTO stu_details (reg_no, stu_name, DOB, address, city)\n",
                "VALUES \n",
                "    (1, 'John Doe', '1995-05-15', '123 Main St', 'New York'),\n",
                "    (2, 'Jane Smith', '1998-10-25', '456 Oak Ave', 'Los Angeles'),\n",
                "    (3, 'Bob Johnson', '2000-03-08', '789 Maple Dr', 'Chicago');"
            ],
            "metadata": {
                "language": "sql",
                "azdata_cell_guid": "6113e6ca-a180-4d7e-8e95-9b8398781395"
            },
            "outputs": [
                {
                    "output_type": "display_data",
                    "data": {
                        "text/html": "Commands completed successfully"
                    },
                    "metadata": {}
                },
                {
                    "output_type": "display_data",
                    "data": {
                        "text/html": "Total execution time: 00:00:00.005"
                    },
                    "metadata": {}
                }
            ],
            "execution_count": 12
        },
        {
            "cell_type": "code",
            "source": [
                "INSERT INTO mark_details (reg_no, mark1, mark2, mark3, total)\n",
                "VALUES \n",
                "    (1, 85, 90, 75, 250),\n",
                "    (2, 80, 75, 95, 250),\n",
                "    (3, 70, 85, 80, 235);"
            ],
            "metadata": {
                "language": "sql",
                "azdata_cell_guid": "f14dd5b6-6222-40e6-b25b-3b79ad26305d"
            },
            "outputs": [
                {
                    "output_type": "display_data",
                    "data": {
                        "text/html": "Commands completed successfully"
                    },
                    "metadata": {}
                },
                {
                    "output_type": "display_data",
                    "data": {
                        "text/html": "Total execution time: 00:00:00.005"
                    },
                    "metadata": {}
                }
            ],
            "execution_count": 13
        },
        {
            "cell_type": "code",
            "source": [
                "--1.1\n",
                "alter table mark_details\n",
                "add column average long;"
            ],
            "metadata": {
                "language": "sql",
                "azdata_cell_guid": "afda25fa-0dbc-469f-93cf-273a9d8cacde",
                "tags": []
            },
            "outputs": [
                {
                    "output_type": "display_data",
                    "data": {
                        "text/html": "Commands completed successfully"
                    },
                    "metadata": {}
                },
                {
                    "output_type": "display_data",
                    "data": {
                        "text/html": "Total execution time: 00:00:00.038"
                    },
                    "metadata": {}
                }
            ],
            "execution_count": 14
        },
        {
            "cell_type": "code",
            "source": [
                "--1.2\n",
                "\n",
                "alter table stu_details\n",
                "add COLUMN months integer;\n",
                "update stu_details set months=(round((select DATEDIFF(CURDATE(),DOB))/30)) where DOB=DOB;"
            ],
            "metadata": {
                "language": "sql",
                "azdata_cell_guid": "ad34f497-d348-475c-b6ba-92b186325526",
                "tags": []
            },
            "outputs": [
                {
                    "output_type": "display_data",
                    "data": {
                        "text/html": "Commands completed successfully"
                    },
                    "metadata": {}
                },
                {
                    "output_type": "display_data",
                    "data": {
                        "text/html": "Total execution time: 00:00:00.043"
                    },
                    "metadata": {}
                }
            ],
            "execution_count": 15
        },
        {
            "cell_type": "code",
            "source": [
                "--1.3\n",
                "\n",
                "alter table stu_details\n",
                "drop column address;"
            ],
            "metadata": {
                "language": "sql",
                "azdata_cell_guid": "dad39485-b79f-41c8-a61b-c12c99b01e5d",
                "tags": []
            },
            "outputs": [
                {
                    "output_type": "display_data",
                    "data": {
                        "text/html": "Commands completed successfully"
                    },
                    "metadata": {}
                },
                {
                    "output_type": "display_data",
                    "data": {
                        "text/html": "Total execution time: 00:00:00.062"
                    },
                    "metadata": {}
                }
            ],
            "execution_count": 23
        },
        {
            "cell_type": "code",
            "source": [
                "--1.4\n",
                "\n",
                "create table student_marks(sum_marks int,avg_marks int);\n",
                ""
            ],
            "metadata": {
                "language": "sql",
                "azdata_cell_guid": "b81e777e-f8ae-40a4-8228-b38b6e92b926"
            },
            "outputs": [
                {
                    "output_type": "display_data",
                    "data": {
                        "text/html": "Commands completed successfully"
                    },
                    "metadata": {}
                },
                {
                    "output_type": "display_data",
                    "data": {
                        "text/html": "Total execution time: 00:00:00.034"
                    },
                    "metadata": {}
                }
            ],
            "execution_count": 24
        },
        {
            "cell_type": "code",
            "source": [
                "create trigger sum_avg_trigger\n",
                "after insert on mark_details\n",
                "for each ROW\n",
                "BEGIN\n",
                "    insert into student_marks() values(new.mark1+new.mark2+new.mark3,(new.mark1+new.mark2+new.mark3)/4);\n",
                "END;\n",
                "\n",
                "select * from student_marks;"
            ],
            "metadata": {
                "language": "sql",
                "azdata_cell_guid": "a14d3b9f-bf6d-497e-9528-0f37cddc72b5"
            },
            "outputs": [
                {
                    "output_type": "display_data",
                    "data": {
                        "text/html": "Commands completed successfully"
                    },
                    "metadata": {}
                },
                {
                    "output_type": "display_data",
                    "data": {
                        "text/html": "(0 row(s) affected)"
                    },
                    "metadata": {}
                },
                {
                    "output_type": "display_data",
                    "data": {
                        "text/html": "Total execution time: 00:00:01.036"
                    },
                    "metadata": {}
                },
                {
                    "output_type": "execute_result",
                    "metadata": {},
                    "execution_count": 31,
                    "data": {
                        "application/vnd.dataresource+json": {
                            "schema": {
                                "fields": [
                                    {
                                        "name": "sum_marks"
                                    },
                                    {
                                        "name": "avg_marks"
                                    }
                                ]
                            },
                            "data": []
                        },
                        "text/html": [
                            "<table>",
                            "<tr><th>sum_marks</th><th>avg_marks</th></tr>",
                            "</table>"
                        ]
                    }
                }
            ],
            "execution_count": 31
        },
        {
            "cell_type": "code",
            "source": [
                "drop trigger sum_avg_trigger;"
            ],
            "metadata": {
                "language": "sql",
                "azdata_cell_guid": "25f1ae86-2546-4f62-9eb2-149ccaad491d"
            },
            "outputs": [
                {
                    "output_type": "display_data",
                    "data": {
                        "text/html": "Commands completed successfully"
                    },
                    "metadata": {}
                },
                {
                    "output_type": "display_data",
                    "data": {
                        "text/html": "Total execution time: 00:00:00.023"
                    },
                    "metadata": {}
                }
            ],
            "execution_count": 30
        },
        {
            "cell_type": "code",
            "source": [
                "insert into mark_details() VALUE (4,1,1,1,1,1);"
            ],
            "metadata": {
                "language": "sql",
                "azdata_cell_guid": "4b072a04-5a02-454a-b017-ff07d6045369"
            },
            "outputs": [
                {
                    "output_type": "display_data",
                    "data": {
                        "text/html": "Commands completed successfully"
                    },
                    "metadata": {}
                },
                {
                    "output_type": "display_data",
                    "data": {
                        "text/html": "Total execution time: 00:00:00.004"
                    },
                    "metadata": {}
                }
            ],
            "execution_count": 32
        },
        {
            "cell_type": "code",
            "source": [
                "select * from st"
            ],
            "metadata": {
                "language": "sql",
                "azdata_cell_guid": "6dd01f6d-3d57-4b8b-ab8f-ca6831c68202"
            },
            "outputs": [],
            "execution_count": null
        },
        {
            "cell_type": "code",
            "source": [
                "select * from stu_details;\n",
                "select * from mark_details;"
            ],
            "metadata": {
                "language": "sql",
                "azdata_cell_guid": "69254fda-cc68-46f8-b686-78d01af434dc"
            },
            "outputs": [
                {
                    "output_type": "display_data",
                    "data": {
                        "text/html": "(3 row(s) affected)"
                    },
                    "metadata": {}
                },
                {
                    "output_type": "display_data",
                    "data": {
                        "text/html": "(3 row(s) affected)"
                    },
                    "metadata": {}
                },
                {
                    "output_type": "display_data",
                    "data": {
                        "text/html": "Total execution time: 00:00:02.007"
                    },
                    "metadata": {}
                },
                {
                    "output_type": "execute_result",
                    "metadata": {},
                    "execution_count": 22,
                    "data": {
                        "application/vnd.dataresource+json": {
                            "schema": {
                                "fields": [
                                    {
                                        "name": "reg_no"
                                    },
                                    {
                                        "name": "stu_name"
                                    },
                                    {
                                        "name": "DOB"
                                    },
                                    {
                                        "name": "address"
                                    },
                                    {
                                        "name": "city"
                                    },
                                    {
                                        "name": "months"
                                    }
                                ]
                            },
                            "data": [
                                {
                                    "reg_no": "1",
                                    "stu_name": "John Doe",
                                    "DOB": "1995-05-15",
                                    "address": "123 Main St",
                                    "city": "New York",
                                    "months": "348"
                                },
                                {
                                    "reg_no": "2",
                                    "stu_name": "Jane Smith",
                                    "DOB": "1998-10-25",
                                    "address": "456 Oak Ave",
                                    "city": "Los Angeles",
                                    "months": "306"
                                },
                                {
                                    "reg_no": "3",
                                    "stu_name": "Bob Johnson",
                                    "DOB": "2000-03-08",
                                    "address": "789 Maple Dr",
                                    "city": "Chicago",
                                    "months": "289"
                                }
                            ]
                        },
                        "text/html": [
                            "<table>",
                            "<tr><th>reg_no</th><th>stu_name</th><th>DOB</th><th>address</th><th>city</th><th>months</th></tr>",
                            "<tr><td>1</td><td>John Doe</td><td>1995-05-15</td><td>123 Main St</td><td>New York</td><td>348</td></tr>",
                            "<tr><td>2</td><td>Jane Smith</td><td>1998-10-25</td><td>456 Oak Ave</td><td>Los Angeles</td><td>306</td></tr>",
                            "<tr><td>3</td><td>Bob Johnson</td><td>2000-03-08</td><td>789 Maple Dr</td><td>Chicago</td><td>289</td></tr>",
                            "</table>"
                        ]
                    }
                },
                {
                    "output_type": "execute_result",
                    "metadata": {},
                    "execution_count": 22,
                    "data": {
                        "application/vnd.dataresource+json": {
                            "schema": {
                                "fields": [
                                    {
                                        "name": "reg_no"
                                    },
                                    {
                                        "name": "mark1"
                                    },
                                    {
                                        "name": "mark2"
                                    },
                                    {
                                        "name": "mark3"
                                    },
                                    {
                                        "name": "total"
                                    },
                                    {
                                        "name": "average"
                                    }
                                ]
                            },
                            "data": [
                                {
                                    "reg_no": "1",
                                    "mark1": "85",
                                    "mark2": "90",
                                    "mark3": "75",
                                    "total": "250",
                                    "average": "NULL"
                                },
                                {
                                    "reg_no": "2",
                                    "mark1": "80",
                                    "mark2": "75",
                                    "mark3": "95",
                                    "total": "250",
                                    "average": "NULL"
                                },
                                {
                                    "reg_no": "3",
                                    "mark1": "70",
                                    "mark2": "85",
                                    "mark3": "80",
                                    "total": "235",
                                    "average": "NULL"
                                }
                            ]
                        },
                        "text/html": [
                            "<table>",
                            "<tr><th>reg_no</th><th>mark1</th><th>mark2</th><th>mark3</th><th>total</th><th>average</th></tr>",
                            "<tr><td>1</td><td>85</td><td>90</td><td>75</td><td>250</td><td>NULL</td></tr>",
                            "<tr><td>2</td><td>80</td><td>75</td><td>95</td><td>250</td><td>NULL</td></tr>",
                            "<tr><td>3</td><td>70</td><td>85</td><td>80</td><td>235</td><td>NULL</td></tr>",
                            "</table>"
                        ]
                    }
                }
            ],
            "execution_count": 22
        },
        {
            "cell_type": "code",
            "source": [
                "drop table stu_details;\n",
                "drop table mark_details;"
            ],
            "metadata": {
                "language": "sql",
                "azdata_cell_guid": "f1411ad0-e7bc-4f92-961d-3aedc3c357fb"
            },
            "outputs": [
                {
                    "output_type": "display_data",
                    "data": {
                        "text/html": "Commands completed successfully"
                    },
                    "metadata": {}
                },
                {
                    "output_type": "display_data",
                    "data": {
                        "text/html": "Commands completed successfully"
                    },
                    "metadata": {}
                },
                {
                    "output_type": "display_data",
                    "data": {
                        "text/html": "Total execution time: 00:00:00.059"
                    },
                    "metadata": {}
                }
            ],
            "execution_count": 9
        }
    ]
}