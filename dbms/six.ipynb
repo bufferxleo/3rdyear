{
    "metadata": {
        "kernelspec": {
            "name": "SQL",
            "display_name": "SQL",
            "language": "sql"
        },
        "language_info": {
            "name": "sql",
            "version": ""
        }
    },
    "nbformat_minor": 2,
    "nbformat": 4,
    "cells": [
        {
            "cell_type": "code",
            "source": [
                "create table bus(ROUTENO int, SOURCE varchar(255), DESTINATION varchar(255));\n",
                "create table passenger(PID int, PNAME varchar(255), DOB date, GENDER varchar(255));\n",
                "create table book_ticket(PID int, ROUTENO int, JOURNEY_DATE date, SEAT_NO int);"
            ],
            "metadata": {
                "azdata_cell_guid": "953a94b7-95ef-468a-8309-9debdec4f405",
                "language": "sql"
            },
            "outputs": [
                {
                    "output_type": "display_data",
                    "data": {
                        "text/html": "Commands completed successfully"
                    },
                    "metadata": {}
                },
                {
                    "output_type": "display_data",
                    "data": {
                        "text/html": "Commands completed successfully"
                    },
                    "metadata": {}
                },
                {
                    "output_type": "display_data",
                    "data": {
                        "text/html": "Commands completed successfully"
                    },
                    "metadata": {}
                },
                {
                    "output_type": "display_data",
                    "data": {
                        "text/html": "Total execution time: 00:00:00.106"
                    },
                    "metadata": {}
                }
            ],
            "execution_count": 78
        },
        {
            "cell_type": "code",
            "source": [
                "select * from bus;\n",
                "select * from passenger;\n",
                "select * from book_ticket;"
            ],
            "metadata": {
                "language": "sql",
                "azdata_cell_guid": "122fc757-bd78-4f39-a716-2886a5deee26"
            },
            "outputs": [
                {
                    "output_type": "display_data",
                    "data": {
                        "text/html": "(0 row(s) affected)"
                    },
                    "metadata": {}
                },
                {
                    "output_type": "display_data",
                    "data": {
                        "text/html": "(0 row(s) affected)"
                    },
                    "metadata": {}
                },
                {
                    "output_type": "display_data",
                    "data": {
                        "text/html": "(0 row(s) affected)"
                    },
                    "metadata": {}
                },
                {
                    "output_type": "display_data",
                    "data": {
                        "text/html": "Total execution time: 00:00:03.050"
                    },
                    "metadata": {}
                },
                {
                    "output_type": "execute_result",
                    "metadata": {},
                    "execution_count": 79,
                    "data": {
                        "application/vnd.dataresource+json": {
                            "schema": {
                                "fields": [
                                    {
                                        "name": "ROUTENO"
                                    },
                                    {
                                        "name": "SOURCE"
                                    },
                                    {
                                        "name": "DESTINATION"
                                    }
                                ]
                            },
                            "data": []
                        },
                        "text/html": [
                            "<table>",
                            "<tr><th>ROUTENO</th><th>SOURCE</th><th>DESTINATION</th></tr>",
                            "</table>"
                        ]
                    }
                },
                {
                    "output_type": "execute_result",
                    "metadata": {},
                    "execution_count": 79,
                    "data": {
                        "application/vnd.dataresource+json": {
                            "schema": {
                                "fields": [
                                    {
                                        "name": "PID"
                                    },
                                    {
                                        "name": "PNAME"
                                    },
                                    {
                                        "name": "DOB"
                                    },
                                    {
                                        "name": "GENDER"
                                    }
                                ]
                            },
                            "data": []
                        },
                        "text/html": [
                            "<table>",
                            "<tr><th>PID</th><th>PNAME</th><th>DOB</th><th>GENDER</th></tr>",
                            "</table>"
                        ]
                    }
                },
                {
                    "output_type": "execute_result",
                    "metadata": {},
                    "execution_count": 79,
                    "data": {
                        "application/vnd.dataresource+json": {
                            "schema": {
                                "fields": [
                                    {
                                        "name": "PID"
                                    },
                                    {
                                        "name": "ROUTENO"
                                    },
                                    {
                                        "name": "JOURNEY_DATE"
                                    },
                                    {
                                        "name": "SEAT_NO"
                                    }
                                ]
                            },
                            "data": []
                        },
                        "text/html": [
                            "<table>",
                            "<tr><th>PID</th><th>ROUTENO</th><th>JOURNEY_DATE</th><th>SEAT_NO</th></tr>",
                            "</table>"
                        ]
                    }
                }
            ],
            "execution_count": 79
        },
        {
            "cell_type": "code",
            "source": [
                "alter table bus add primary key (ROUTENO);\n",
                "alter table passenger add primary key (PID);"
            ],
            "metadata": {
                "azdata_cell_guid": "72c5351b-8b80-4a15-a4d6-f17ef5cb06d3",
                "language": "sql",
                "tags": []
            },
            "outputs": [
                {
                    "output_type": "display_data",
                    "data": {
                        "text/html": "Commands completed successfully"
                    },
                    "metadata": {}
                },
                {
                    "output_type": "display_data",
                    "data": {
                        "text/html": "Commands completed successfully"
                    },
                    "metadata": {}
                },
                {
                    "output_type": "display_data",
                    "data": {
                        "text/html": "Total execution time: 00:00:00.143"
                    },
                    "metadata": {}
                }
            ],
            "execution_count": 80
        },
        {
            "cell_type": "code",
            "source": [
                "alter table book_ticket add foreign key(PID) REFERENCES passenger(pid);\n",
                "alter table book_ticket add foreign key(ROUTENO) REFERENCES bus(ROUTENO);\n",
                ""
            ],
            "metadata": {
                "language": "sql",
                "azdata_cell_guid": "1c564345-4cbb-464a-b613-c56821dc25f8"
            },
            "outputs": [
                {
                    "output_type": "display_data",
                    "data": {
                        "text/html": "Commands completed successfully"
                    },
                    "metadata": {}
                },
                {
                    "output_type": "display_data",
                    "data": {
                        "text/html": "Commands completed successfully"
                    },
                    "metadata": {}
                },
                {
                    "output_type": "display_data",
                    "data": {
                        "text/html": "Total execution time: 00:00:00.195"
                    },
                    "metadata": {}
                }
            ],
            "execution_count": 81
        },
        {
            "cell_type": "code",
            "source": [
                "-- 6.2\n",
                "\n",
                "INSERT INTO bus (ROUTENO, SOURCE, DESTINATION) VALUES\n",
                "    (1, 'Bangalore', 'Chennai'),\n",
                "    (2, 'Chennai', 'Pune'),\n",
                "    (3, 'Mumbai', 'Delhi');"
            ],
            "metadata": {
                "azdata_cell_guid": "a4776353-7cfb-4d75-aa49-1c72f5cc5c8a",
                "language": "sql"
            },
            "outputs": [
                {
                    "output_type": "display_data",
                    "data": {
                        "text/html": "Commands completed successfully"
                    },
                    "metadata": {}
                },
                {
                    "output_type": "display_data",
                    "data": {
                        "text/html": "Total execution time: 00:00:00.007"
                    },
                    "metadata": {}
                }
            ],
            "execution_count": 82
        },
        {
            "cell_type": "code",
            "source": [
                "INSERT INTO passenger (PID, PNAME, DOB, GENDER) VALUES\n",
                "    (101, 'John', '1995-03-15', 'M'),\n",
                "    (102, 'Alice', '1988-06-10', 'F'),\n",
                "    (103, 'Bob', '2000-11-25', 'M'),\n",
                "    (104, 'Carol', '2005-09-20', 'F'),\n",
                "    (105, 'David', '2012-02-05', 'M');"
            ],
            "metadata": {
                "azdata_cell_guid": "50e7677c-a11e-4c73-9aac-fdd522ee445b",
                "language": "sql"
            },
            "outputs": [
                {
                    "output_type": "display_data",
                    "data": {
                        "text/html": "Commands completed successfully"
                    },
                    "metadata": {}
                },
                {
                    "output_type": "display_data",
                    "data": {
                        "text/html": "Total execution time: 00:00:00.012"
                    },
                    "metadata": {}
                }
            ],
            "execution_count": 83
        },
        {
            "cell_type": "code",
            "source": [
                "INSERT INTO book_ticket (PID, ROUTENO, JOURNEY_DATE, SEAT_NO) VALUES\n",
                "    (101, 1, '2014-11-03', 12),\n",
                "    (102, 1, '2014-11-03', 7),\n",
                "    (103, 2, '2014-11-05', 4),\n",
                "    (104, 1, '2014-11-03', 3),\n",
                "    (105, 2, '2014-11-06', 9);"
            ],
            "metadata": {
                "azdata_cell_guid": "5a212d44-d4e7-4327-95be-0b887daa033b",
                "language": "sql"
            },
            "outputs": [
                {
                    "output_type": "display_data",
                    "data": {
                        "text/html": "Commands completed successfully"
                    },
                    "metadata": {}
                },
                {
                    "output_type": "display_data",
                    "data": {
                        "text/html": "Total execution time: 00:00:00.012"
                    },
                    "metadata": {}
                }
            ],
            "execution_count": 84
        },
        {
            "cell_type": "code",
            "source": [
                "-- 6.3\n",
                "\n",
                "alter table passenger add column dob_2010 int;\n",
                "update passenger set dob_2010=(dob>'2010-01-01') where dob=dob;"
            ],
            "metadata": {
                "language": "sql",
                "azdata_cell_guid": "a4a51a9f-f32c-4a60-b65f-e922e2ae1f20",
                "tags": []
            },
            "outputs": [
                {
                    "output_type": "display_data",
                    "data": {
                        "text/html": "Commands completed successfully"
                    },
                    "metadata": {}
                },
                {
                    "output_type": "display_data",
                    "data": {
                        "text/html": "Commands completed successfully"
                    },
                    "metadata": {}
                },
                {
                    "output_type": "display_data",
                    "data": {
                        "text/html": "Total execution time: 00:00:00.050"
                    },
                    "metadata": {}
                }
            ],
            "execution_count": 85
        },
        {
            "cell_type": "code",
            "source": [
                "-- 6.4\n",
                "\n",
                "select PNAME from passenger p\n",
                "join book_ticket bt on p.PID=bt.PID\n",
                "join bus b on b.ROUTENO=bt.ROUTENO\n",
                "where b.SOURCE='Banglore' and b.DESTINATION='Chennai' and bt.JOURNEY_DATE='2014-11-03';\n",
                ""
            ],
            "metadata": {
                "azdata_cell_guid": "db895e8c-9cf7-4b6d-a3fc-0285cd28765e",
                "language": "sql"
            },
            "outputs": [
                {
                    "output_type": "display_data",
                    "data": {
                        "text/html": "(0 row(s) affected)"
                    },
                    "metadata": {}
                },
                {
                    "output_type": "display_data",
                    "data": {
                        "text/html": "Total execution time: 00:00:01.004"
                    },
                    "metadata": {}
                },
                {
                    "output_type": "execute_result",
                    "metadata": {},
                    "execution_count": 86,
                    "data": {
                        "application/vnd.dataresource+json": {
                            "schema": {
                                "fields": [
                                    {
                                        "name": "PNAME"
                                    }
                                ]
                            },
                            "data": []
                        },
                        "text/html": [
                            "<table>",
                            "<tr><th>PNAME</th></tr>",
                            "</table>"
                        ]
                    }
                }
            ],
            "execution_count": 86
        },
        {
            "cell_type": "code",
            "source": [
                "-- 6.5\n",
                "\n",
                "create view chennai_to_pune as\n",
                "select b.ROUTENO,b.SOURCE,b.DESTINATION,bt.JOURNEY_DATE\n",
                "from bus b \n",
                "join book_ticket bt on bt.ROUTENO=b.ROUTENO\n",
                "where b.SOURCE ='Chennai' and b.DESTINATION='Pune';\n",
                "\n",
                "select * from chennai_to_pune;"
            ],
            "metadata": {
                "language": "sql",
                "azdata_cell_guid": "1452bb59-8106-40a3-9aab-f56cd9b34f92"
            },
            "outputs": [
                {
                    "output_type": "display_data",
                    "data": {
                        "text/html": "Total execution time: 00:00:00"
                    },
                    "metadata": {}
                }
            ],
            "execution_count": 87
        },
        {
            "cell_type": "code",
            "source": [
                "-- 6.6\n",
                "\n",
                "create index passenger_pid_index on passenger(PID);"
            ],
            "metadata": {
                "language": "sql",
                "azdata_cell_guid": "9eebc8e8-efc3-40a4-a689-1bac5245f4e7"
            },
            "outputs": [
{
    "output_type": "error",
    "evalue": "1050 (42S01): Table 'chennai_to_pune' already exists",
    "ename": "",
    "traceback": []
}, {
    "output_type": "display_data",
    "data": {
        "text/html": "Commands completed successfully"
    },
    "metadata": {}
}, {
    "output_type": "display_data",
    "data": {
        "text/html": "Total execution time: 00:00:00.062"
    },
    "metadata": {}
}
],
            "execution_count": 88
        },
        {
            "cell_type": "code",
            "source": [
                "-- drop table book_ticket;\n",
                "-- drop table bus;\n",
                "-- drop table passenger;"
            ],
            "metadata": {
                "language": "sql",
                "azdata_cell_guid": "938da702-a3bf-4e59-8266-02ff6bdb5125",
                "tags": []
            },
            "outputs": [
                {
                    "output_type": "display_data",
                    "data": {
                        "text/html": "Commands completed successfully"
                    },
                    "metadata": {}
                },
                {
                    "output_type": "display_data",
                    "data": {
                        "text/html": "Commands completed successfully"
                    },
                    "metadata": {}
                },
                {
                    "output_type": "display_data",
                    "data": {
                        "text/html": "Commands completed successfully"
                    },
                    "metadata": {}
                },
                {
                    "output_type": "display_data",
                    "data": {
                        "text/html": "Total execution time: 00:00:00.110"
                    },
                    "metadata": {}
                }
            ],
            "execution_count": 77
        }
    ]
}