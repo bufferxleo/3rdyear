{
    "metadata": {
        "kernelspec": {
            "name": "SQL",
            "display_name": "SQL",
            "language": "sql"
        },
        "language_info": {
            "name": "sql",
            "version": ""
        }
    },
    "nbformat_minor": 2,
    "nbformat": 4,
    "cells": [
        {
            "cell_type": "code",
            "source": [
                "create table emp_details \n",
                "(\n",
                "    emp_no int,\n",
                "    emp_name varchar(255),\n",
                "    DOB date,\n",
                "    address varchar(255),\n",
                "    doj date,\n",
                "    mobile_no varchar(15),\n",
                "    dept_no int,\n",
                "    salary decimal(10, 2)\n",
                ");\n",
                "\n",
                "\n",
                "create table dept_details \n",
                "(\n",
                "    dept_no int,\n",
                "    dept_name varchar(255),\n",
                "    location varchar(255)\n",
                ");\n",
                ""
            ],
            "metadata": {
                "azdata_cell_guid": "2000378f-38a2-4f1a-85cf-235f367085d4",
                "language": "sql"
            },
            "outputs": [
                {
                    "output_type": "display_data",
                    "data": {
                        "text/html": "Commands completed successfully"
                    },
                    "metadata": {}
                },
                {
                    "output_type": "display_data",
                    "data": {
                        "text/html": "Commands completed successfully"
                    },
                    "metadata": {}
                },
                {
                    "output_type": "display_data",
                    "data": {
                        "text/html": "Total execution time: 00:00:00.086"
                    },
                    "metadata": {}
                }
            ],
            "execution_count": 1
        },
        {
            "cell_type": "code",
            "source": [
                "select * from emp_details;\n",
                "select * from dept_details;"
            ],
            "metadata": {
                "azdata_cell_guid": "4fd3c25b-5659-42cd-b993-9d32588e480f",
                "language": "sql"
            },
            "outputs": [
                {
                    "output_type": "display_data",
                    "data": {
                        "text/html": "(0 row(s) affected)"
                    },
                    "metadata": {}
                },
                {
                    "output_type": "display_data",
                    "data": {
                        "text/html": "(0 row(s) affected)"
                    },
                    "metadata": {}
                },
                {
                    "output_type": "display_data",
                    "data": {
                        "text/html": "Total execution time: 00:00:02.022"
                    },
                    "metadata": {}
                },
                {
                    "output_type": "execute_result",
                    "metadata": {},
                    "execution_count": 2,
                    "data": {
                        "application/vnd.dataresource+json": {
                            "schema": {
                                "fields": [
                                    {
                                        "name": "emp_no"
                                    },
                                    {
                                        "name": "emp_name"
                                    },
                                    {
                                        "name": "DOB"
                                    },
                                    {
                                        "name": "address"
                                    },
                                    {
                                        "name": "doj"
                                    },
                                    {
                                        "name": "mobile_no"
                                    },
                                    {
                                        "name": "dept_no"
                                    },
                                    {
                                        "name": "salary"
                                    }
                                ]
                            },
                            "data": []
                        },
                        "text/html": [
                            "<table>",
                            "<tr><th>emp_no</th><th>emp_name</th><th>DOB</th><th>address</th><th>doj</th><th>mobile_no</th><th>dept_no</th><th>salary</th></tr>",
                            "</table>"
                        ]
                    }
                },
                {
                    "output_type": "execute_result",
                    "metadata": {},
                    "execution_count": 2,
                    "data": {
                        "application/vnd.dataresource+json": {
                            "schema": {
                                "fields": [
                                    {
                                        "name": "dept_no"
                                    },
                                    {
                                        "name": "dept_name"
                                    },
                                    {
                                        "name": "location"
                                    }
                                ]
                            },
                            "data": []
                        },
                        "text/html": [
                            "<table>",
                            "<tr><th>dept_no</th><th>dept_name</th><th>location</th></tr>",
                            "</table>"
                        ]
                    }
                }
            ],
            "execution_count": 2
        },
        {
            "cell_type": "code",
            "source": [
                "insert into emp_details() \n",
                "values \n",
                "(1,\"hi\",\"2005-08-08\",\"leeo\",\"2022-08-01\",989,09,10), (2,\"hi\",\"2005-08-08\",\"leeo\",\"2022-08-01\",989,09,10);\n",
                ""
            ],
            "metadata": {
                "azdata_cell_guid": "9b05e609-d411-4ca9-ab64-4efa51ed079c",
                "language": "sql"
            },
            "outputs": [
                {
                    "output_type": "display_data",
                    "data": {
                        "text/html": "Commands completed successfully"
                    },
                    "metadata": {}
                },
                {
                    "output_type": "display_data",
                    "data": {
                        "text/html": "Total execution time: 00:00:00.005"
                    },
                    "metadata": {}
                }
            ],
            "execution_count": 3
        },
        {
            "cell_type": "code",
            "source": [
                "-- 2.1\n",
                "alter table emp_details\n",
                "add COLUMN exp_mon integer;\n",
                "update emp_details set exp_mon=(round((select DATEDIFF(CURDATE(),doj))/30)) where doj=doj;\n",
                ""
            ],
            "metadata": {
                "azdata_cell_guid": "e6a708ff-d3c1-497a-92aa-f3874c854929",
                "language": "sql",
                "tags": []
            },
            "outputs": [
                {
                    "output_type": "display_data",
                    "data": {
                        "text/html": "Commands completed successfully"
                    },
                    "metadata": {}
                },
                {
                    "output_type": "display_data",
                    "data": {
                        "text/html": "Commands completed successfully"
                    },
                    "metadata": {}
                },
                {
                    "output_type": "display_data",
                    "data": {
                        "text/html": "Total execution time: 00:00:00.060"
                    },
                    "metadata": {}
                }
            ],
            "execution_count": 4
        },
        {
            "cell_type": "code",
            "source": [
                "-- 2.2\n",
                "\n",
                "alter table emp_details add primary key(emp_no);"
            ],
            "metadata": {
                "language": "sql",
                "azdata_cell_guid": "592760cc-2e21-4463-93d7-92db687a66a2",
                "tags": []
            },
            "outputs": [
                {
                    "output_type": "display_data",
                    "data": {
                        "text/html": "Commands completed successfully"
                    },
                    "metadata": {}
                },
                {
                    "output_type": "display_data",
                    "data": {
                        "text/html": "Total execution time: 00:00:00.080"
                    },
                    "metadata": {}
                }
            ],
            "execution_count": 5
        },
        {
            "cell_type": "code",
            "source": [
                "-- 2.3\n",
                "\n",
                "select emp_name,salary from emp_details where emp_details.salary=(select max(salary) from emp_details);\n",
                ""
            ],
            "metadata": {
                "language": "sql",
                "azdata_cell_guid": "fd13dbba-a32e-416d-823e-2f19c1de3050",
                "tags": []
            },
            "outputs": [
                {
                    "output_type": "display_data",
                    "data": {
                        "text/html": "(2 row(s) affected)"
                    },
                    "metadata": {}
                },
                {
                    "output_type": "display_data",
                    "data": {
                        "text/html": "Total execution time: 00:00:01.007"
                    },
                    "metadata": {}
                },
                {
                    "output_type": "execute_result",
                    "metadata": {},
                    "execution_count": 6,
                    "data": {
                        "application/vnd.dataresource+json": {
                            "schema": {
                                "fields": [
                                    {
                                        "name": "emp_name"
                                    },
                                    {
                                        "name": "salary"
                                    }
                                ]
                            },
                            "data": [
                                {
                                    "emp_name": "hi",
                                    "salary": "10.00"
                                },
                                {
                                    "emp_name": "hi",
                                    "salary": "10.00"
                                }
                            ]
                        },
                        "text/html": [
                            "<table>",
                            "<tr><th>emp_name</th><th>salary</th></tr>",
                            "<tr><td>hi</td><td>10.00</td></tr>",
                            "<tr><td>hi</td><td>10.00</td></tr>",
                            "</table>"
                        ]
                    }
                }
            ],
            "execution_count": 6
        },
        {
            "cell_type": "code",
            "source": [
                ""
            ],
            "metadata": {
                "language": "sql",
                "azdata_cell_guid": "d0352520-d222-4d70-b00b-d3aa6ec300c7"
            },
            "outputs": [],
            "execution_count": null
        },
        {
            "cell_type": "code",
            "source": [
                "insert into dept_details() values (9,\"dep_hi\",\"dep_loc\");"
            ],
            "metadata": {
                "azdata_cell_guid": "2b2205f3-1ea0-4022-8e3f-f27efa126c31",
                "language": "sql"
            },
            "outputs": [
                {
                    "output_type": "display_data",
                    "data": {
                        "text/html": "Commands completed successfully"
                    },
                    "metadata": {}
                },
                {
                    "output_type": "display_data",
                    "data": {
                        "text/html": "Total execution time: 00:00:00.004"
                    },
                    "metadata": {}
                }
            ],
            "execution_count": 7
        },
        {
            "cell_type": "code",
            "source": [
                "-- 2.4\n",
                "\n",
                "SELECT *\n",
                "FROM emp_details\n",
                "left JOIN dept_details ON emp_details.dept_no = dept_details.dept_no;\n",
                "\n",
                "SELECT *\n",
                "FROM emp_details\n",
                "right JOIN dept_details ON emp_details.dept_no = dept_details.dept_no;\n",
                "\n",
                "SELECT *\n",
                "FROM emp_details\n",
                "inner JOIN dept_details ON emp_details.dept_no = dept_details.dept_no;\n",
                "\n",
                "SELECT *\n",
                "FROM emp_details\n",
                "left JOIN dept_details ON emp_details.dept_no = dept_details.dept_no\n",
                "UNION\n",
                "SELECT *\n",
                "FROM emp_details\n",
                "RIGHT JOIN dept_details ON emp_details.dept_no = dept_details.dept_no\n",
                "WHERE emp_details.dept_no IS NULL;\n",
                "\n",
                ""
            ],
            "metadata": {
                "azdata_cell_guid": "55634786-1337-49de-8aa3-ce2f97056845",
                "language": "sql",
                "tags": []
            },
            "outputs": [
                {
                    "output_type": "display_data",
                    "data": {
                        "text/html": "(2 row(s) affected)"
                    },
                    "metadata": {}
                },
                {
                    "output_type": "display_data",
                    "data": {
                        "text/html": "(2 row(s) affected)"
                    },
                    "metadata": {}
                },
                {
                    "output_type": "display_data",
                    "data": {
                        "text/html": "(2 row(s) affected)"
                    },
                    "metadata": {}
                },
                {
                    "output_type": "display_data",
                    "data": {
                        "text/html": "(2 row(s) affected)"
                    },
                    "metadata": {}
                },
                {
                    "output_type": "display_data",
                    "data": {
                        "text/html": "Total execution time: 00:00:04.072"
                    },
                    "metadata": {}
                },
                {
                    "output_type": "execute_result",
                    "metadata": {},
                    "execution_count": 8,
                    "data": {
                        "application/vnd.dataresource+json": {
                            "schema": {
                                "fields": [
                                    {
                                        "name": "emp_no"
                                    },
                                    {
                                        "name": "emp_name"
                                    },
                                    {
                                        "name": "DOB"
                                    },
                                    {
                                        "name": "address"
                                    },
                                    {
                                        "name": "doj"
                                    },
                                    {
                                        "name": "mobile_no"
                                    },
                                    {
                                        "name": "dept_no"
                                    },
                                    {
                                        "name": "salary"
                                    },
                                    {
                                        "name": "exp_mon"
                                    },
                                    {
                                        "name": "dept_no"
                                    },
                                    {
                                        "name": "dept_name"
                                    },
                                    {
                                        "name": "location"
                                    }
                                ]
                            },
                            "data": [
                                {
                                    "emp_no": "1",
                                    "emp_name": "hi",
                                    "DOB": "2005-08-08",
                                    "address": "leeo",
                                    "doj": "2022-08-01",
                                    "mobile_no": "989",
                                    "dept_no": "9",
                                    "salary": "10.00",
                                    "exp_mon": "16",
                                    "dept_name": "dep_hi",
                                    "location": "dep_loc"
                                },
                                {
                                    "emp_no": "2",
                                    "emp_name": "hi",
                                    "DOB": "2005-08-08",
                                    "address": "leeo",
                                    "doj": "2022-08-01",
                                    "mobile_no": "989",
                                    "dept_no": "9",
                                    "salary": "10.00",
                                    "exp_mon": "16",
                                    "dept_name": "dep_hi",
                                    "location": "dep_loc"
                                }
                            ]
                        },
                        "text/html": [
                            "<table>",
                            "<tr><th>emp_no</th><th>emp_name</th><th>DOB</th><th>address</th><th>doj</th><th>mobile_no</th><th>dept_no</th><th>salary</th><th>exp_mon</th><th>dept_no</th><th>dept_name</th><th>location</th></tr>",
                            "<tr><td>1</td><td>hi</td><td>2005-08-08</td><td>leeo</td><td>2022-08-01</td><td>989</td><td>9</td><td>10.00</td><td>16</td><td>9</td><td>dep_hi</td><td>dep_loc</td></tr>",
                            "<tr><td>2</td><td>hi</td><td>2005-08-08</td><td>leeo</td><td>2022-08-01</td><td>989</td><td>9</td><td>10.00</td><td>16</td><td>9</td><td>dep_hi</td><td>dep_loc</td></tr>",
                            "</table>"
                        ]
                    }
                },
                {
                    "output_type": "execute_result",
                    "metadata": {},
                    "execution_count": 8,
                    "data": {
                        "application/vnd.dataresource+json": {
                            "schema": {
                                "fields": [
                                    {
                                        "name": "emp_no"
                                    },
                                    {
                                        "name": "emp_name"
                                    },
                                    {
                                        "name": "DOB"
                                    },
                                    {
                                        "name": "address"
                                    },
                                    {
                                        "name": "doj"
                                    },
                                    {
                                        "name": "mobile_no"
                                    },
                                    {
                                        "name": "dept_no"
                                    },
                                    {
                                        "name": "salary"
                                    },
                                    {
                                        "name": "exp_mon"
                                    },
                                    {
                                        "name": "dept_no"
                                    },
                                    {
                                        "name": "dept_name"
                                    },
                                    {
                                        "name": "location"
                                    }
                                ]
                            },
                            "data": [
                                {
                                    "emp_no": "1",
                                    "emp_name": "hi",
                                    "DOB": "2005-08-08",
                                    "address": "leeo",
                                    "doj": "2022-08-01",
                                    "mobile_no": "989",
                                    "dept_no": "9",
                                    "salary": "10.00",
                                    "exp_mon": "16",
                                    "dept_name": "dep_hi",
                                    "location": "dep_loc"
                                },
                                {
                                    "emp_no": "2",
                                    "emp_name": "hi",
                                    "DOB": "2005-08-08",
                                    "address": "leeo",
                                    "doj": "2022-08-01",
                                    "mobile_no": "989",
                                    "dept_no": "9",
                                    "salary": "10.00",
                                    "exp_mon": "16",
                                    "dept_name": "dep_hi",
                                    "location": "dep_loc"
                                }
                            ]
                        },
                        "text/html": [
                            "<table>",
                            "<tr><th>emp_no</th><th>emp_name</th><th>DOB</th><th>address</th><th>doj</th><th>mobile_no</th><th>dept_no</th><th>salary</th><th>exp_mon</th><th>dept_no</th><th>dept_name</th><th>location</th></tr>",
                            "<tr><td>1</td><td>hi</td><td>2005-08-08</td><td>leeo</td><td>2022-08-01</td><td>989</td><td>9</td><td>10.00</td><td>16</td><td>9</td><td>dep_hi</td><td>dep_loc</td></tr>",
                            "<tr><td>2</td><td>hi</td><td>2005-08-08</td><td>leeo</td><td>2022-08-01</td><td>989</td><td>9</td><td>10.00</td><td>16</td><td>9</td><td>dep_hi</td><td>dep_loc</td></tr>",
                            "</table>"
                        ]
                    }
                },
                {
                    "output_type": "execute_result",
                    "metadata": {},
                    "execution_count": 8,
                    "data": {
                        "application/vnd.dataresource+json": {
                            "schema": {
                                "fields": [
                                    {
                                        "name": "emp_no"
                                    },
                                    {
                                        "name": "emp_name"
                                    },
                                    {
                                        "name": "DOB"
                                    },
                                    {
                                        "name": "address"
                                    },
                                    {
                                        "name": "doj"
                                    },
                                    {
                                        "name": "mobile_no"
                                    },
                                    {
                                        "name": "dept_no"
                                    },
                                    {
                                        "name": "salary"
                                    },
                                    {
                                        "name": "exp_mon"
                                    },
                                    {
                                        "name": "dept_no"
                                    },
                                    {
                                        "name": "dept_name"
                                    },
                                    {
                                        "name": "location"
                                    }
                                ]
                            },
                            "data": [
                                {
                                    "emp_no": "1",
                                    "emp_name": "hi",
                                    "DOB": "2005-08-08",
                                    "address": "leeo",
                                    "doj": "2022-08-01",
                                    "mobile_no": "989",
                                    "dept_no": "9",
                                    "salary": "10.00",
                                    "exp_mon": "16",
                                    "dept_name": "dep_hi",
                                    "location": "dep_loc"
                                },
                                {
                                    "emp_no": "2",
                                    "emp_name": "hi",
                                    "DOB": "2005-08-08",
                                    "address": "leeo",
                                    "doj": "2022-08-01",
                                    "mobile_no": "989",
                                    "dept_no": "9",
                                    "salary": "10.00",
                                    "exp_mon": "16",
                                    "dept_name": "dep_hi",
                                    "location": "dep_loc"
                                }
                            ]
                        },
                        "text/html": [
                            "<table>",
                            "<tr><th>emp_no</th><th>emp_name</th><th>DOB</th><th>address</th><th>doj</th><th>mobile_no</th><th>dept_no</th><th>salary</th><th>exp_mon</th><th>dept_no</th><th>dept_name</th><th>location</th></tr>",
                            "<tr><td>1</td><td>hi</td><td>2005-08-08</td><td>leeo</td><td>2022-08-01</td><td>989</td><td>9</td><td>10.00</td><td>16</td><td>9</td><td>dep_hi</td><td>dep_loc</td></tr>",
                            "<tr><td>2</td><td>hi</td><td>2005-08-08</td><td>leeo</td><td>2022-08-01</td><td>989</td><td>9</td><td>10.00</td><td>16</td><td>9</td><td>dep_hi</td><td>dep_loc</td></tr>",
                            "</table>"
                        ]
                    }
                },
                {
                    "output_type": "execute_result",
                    "metadata": {},
                    "execution_count": 8,
                    "data": {
                        "application/vnd.dataresource+json": {
                            "schema": {
                                "fields": [
                                    {
                                        "name": "emp_no"
                                    },
                                    {
                                        "name": "emp_name"
                                    },
                                    {
                                        "name": "DOB"
                                    },
                                    {
                                        "name": "address"
                                    },
                                    {
                                        "name": "doj"
                                    },
                                    {
                                        "name": "mobile_no"
                                    },
                                    {
                                        "name": "dept_no"
                                    },
                                    {
                                        "name": "salary"
                                    },
                                    {
                                        "name": "exp_mon"
                                    },
                                    {
                                        "name": "dept_no"
                                    },
                                    {
                                        "name": "dept_name"
                                    },
                                    {
                                        "name": "location"
                                    }
                                ]
                            },
                            "data": [
                                {
                                    "emp_no": "1",
                                    "emp_name": "hi",
                                    "DOB": "2005-08-08",
                                    "address": "leeo",
                                    "doj": "2022-08-01",
                                    "mobile_no": "989",
                                    "dept_no": "9",
                                    "salary": "10.00",
                                    "exp_mon": "16",
                                    "dept_name": "dep_hi",
                                    "location": "dep_loc"
                                },
                                {
                                    "emp_no": "2",
                                    "emp_name": "hi",
                                    "DOB": "2005-08-08",
                                    "address": "leeo",
                                    "doj": "2022-08-01",
                                    "mobile_no": "989",
                                    "dept_no": "9",
                                    "salary": "10.00",
                                    "exp_mon": "16",
                                    "dept_name": "dep_hi",
                                    "location": "dep_loc"
                                }
                            ]
                        },
                        "text/html": [
                            "<table>",
                            "<tr><th>emp_no</th><th>emp_name</th><th>DOB</th><th>address</th><th>doj</th><th>mobile_no</th><th>dept_no</th><th>salary</th><th>exp_mon</th><th>dept_no</th><th>dept_name</th><th>location</th></tr>",
                            "<tr><td>1</td><td>hi</td><td>2005-08-08</td><td>leeo</td><td>2022-08-01</td><td>989</td><td>9</td><td>10.00</td><td>16</td><td>9</td><td>dep_hi</td><td>dep_loc</td></tr>",
                            "<tr><td>2</td><td>hi</td><td>2005-08-08</td><td>leeo</td><td>2022-08-01</td><td>989</td><td>9</td><td>10.00</td><td>16</td><td>9</td><td>dep_hi</td><td>dep_loc</td></tr>",
                            "</table>"
                        ]
                    }
                }
            ],
            "execution_count": 8
        },
        {
            "cell_type": "code",
            "source": [
                "-- 2.5\n",
                "\n",
                "select emp_name from emp_details where emp_details.address like 'a%'"
            ],
            "metadata": {
                "azdata_cell_guid": "8f06589f-1e7b-4756-b6c5-6f37938c2bae",
                "language": "sql",
                "tags": []
            },
            "outputs": [
                {
                    "output_type": "display_data",
                    "data": {
                        "text/html": "(0 row(s) affected)"
                    },
                    "metadata": {}
                },
                {
                    "output_type": "display_data",
                    "data": {
                        "text/html": "Total execution time: 00:00:01.003"
                    },
                    "metadata": {}
                },
                {
                    "output_type": "execute_result",
                    "execution_count": 39,
                    "data": {
                        "application/vnd.dataresource+json": {
                            "schema": {
                                "fields": [
                                    {
                                        "name": "emp_name"
                                    }
                                ]
                            },
                            "data": []
                        },
                        "text/html": "<table><tr><th>emp_name</th></tr></table>"
                    },
                    "metadata": {}
                }
            ],
            "execution_count": 39
        },
        {
            "cell_type": "code",
            "source": [
                "-- 2.6\n",
                "\n",
                "-- create table emp_details_backup(\n",
                "--     emp_no int,\n",
                "--     emp_name varchar(255),\n",
                "--     DOB date,\n",
                "--     address varchar(255),\n",
                "--     doj date,\n",
                "--     mobile_no varchar(15),\n",
                "--     dept_no int,\n",
                "--     salary decimal(10, 2),\n",
                "--     exp_mon int\n",
                "-- );\n",
                "create table emp_details_backup like emp_details;"
            ],
            "metadata": {
                "language": "sql",
                "azdata_cell_guid": "5146ffc0-0562-46b1-bb76-e0a9992ed7cf",
                "tags": []
            },
            "outputs": [
                {
                    "output_type": "display_data",
                    "data": {
                        "text/html": "Commands completed successfully"
                    },
                    "metadata": {}
                },
                {
                    "output_type": "display_data",
                    "data": {
                        "text/html": "Total execution time: 00:00:00.027"
                    },
                    "metadata": {}
                }
            ],
            "execution_count": 11
        },
        {
            "cell_type": "code",
            "source": [
                "CREATE TRIGGER backup_trigger\n",
                "after DELETE ON emp_details\n",
                "FOR EACH ROW\n",
                "BEGIN\n",
                "    INSERT INTO emp_details_backup SELECT * FROM emp_details WHERE emp_id = emp_id;\n",
                "END;\n",
                "\n",
                "-- Verify the content of both tables\n",
                "SELECT * FROM emp_details;\n",
                "SELECT * FROM emp_details_backup;\n",
                "\n",
                "-- Perform a delete operation\n",
                "DELETE FROM emp_details;\n",
                "\n",
                "-- Verify the content again\n",
                "SELECT * FROM emp_details;\n",
                "SELECT * FROM emp_details_backup;\n",
                ""
            ],
            "metadata": {
                "language": "sql",
                "azdata_cell_guid": "f1e3f8bd-1e41-4089-a1e2-f85855dffb54",
                "tags": []
            },
            "outputs": [
                {
                    "output_type": "error",
                    "ename": "",
                    "evalue": "1050 (42S01): Table 'emp_details_backup' already exists",
                    "traceback": []
                },
                {
                    "output_type": "display_data",
                    "data": {
                        "text/html": "Commands completed successfully"
                    },
                    "metadata": {}
                },
                {
                    "output_type": "display_data",
                    "data": {
                        "text/html": "(2 row(s) affected)"
                    },
                    "metadata": {}
                },
                {
                    "output_type": "display_data",
                    "data": {
                        "text/html": "(0 row(s) affected)"
                    },
                    "metadata": {}
                },
                {
                    "output_type": "display_data",
                    "data": {
                        "text/html": "Total execution time: 00:00:02.049"
                    },
                    "metadata": {}
                },
                {
                    "output_type": "execute_result",
                    "execution_count": 41,
                    "data": {
                        "application/vnd.dataresource+json": {
                            "schema": {
                                "fields": [
                                    {
                                        "name": "emp_no"
                                    },
                                    {
                                        "name": "emp_name"
                                    },
                                    {
                                        "name": "DOB"
                                    },
                                    {
                                        "name": "address"
                                    },
                                    {
                                        "name": "doj"
                                    },
                                    {
                                        "name": "mobile_no"
                                    },
                                    {
                                        "name": "dept_no"
                                    },
                                    {
                                        "name": "salary"
                                    },
                                    {
                                        "name": "exp_mon"
                                    }
                                ]
                            },
                            "data": [
                                {
                                    "emp_no": "1",
                                    "emp_name": "hi",
                                    "DOB": "2005-08-08",
                                    "address": "leeo",
                                    "doj": "2022-08-01",
                                    "mobile_no": "989",
                                    "dept_no": "9",
                                    "salary": "10.00",
                                    "exp_mon": "16"
                                },
                                {
                                    "emp_no": "2",
                                    "emp_name": "hi",
                                    "DOB": "2005-08-08",
                                    "address": "leeo",
                                    "doj": "2022-08-01",
                                    "mobile_no": "989",
                                    "dept_no": "9",
                                    "salary": "10.00",
                                    "exp_mon": "16"
                                }
                            ]
                        },
                        "text/html": "<table><tr><th>emp_no</th><th>emp_name</th><th>DOB</th><th>address</th><th>doj</th><th>mobile_no</th><th>dept_no</th><th>salary</th><th>exp_mon</th></tr><tr><td>1</td><td>hi</td><td>2005-08-08</td><td>leeo</td><td>2022-08-01</td><td>989</td><td>9</td><td>10.00</td><td>16</td></tr><tr><td>2</td><td>hi</td><td>2005-08-08</td><td>leeo</td><td>2022-08-01</td><td>989</td><td>9</td><td>10.00</td><td>16</td></tr></table>"
                    },
                    "metadata": {}
                },
                {
                    "output_type": "execute_result",
                    "execution_count": 41,
                    "data": {
                        "application/vnd.dataresource+json": {
                            "schema": {
                                "fields": [
                                    {
                                        "name": "emp_no"
                                    },
                                    {
                                        "name": "emp_name"
                                    },
                                    {
                                        "name": "DOB"
                                    },
                                    {
                                        "name": "address"
                                    },
                                    {
                                        "name": "doj"
                                    },
                                    {
                                        "name": "mobile_no"
                                    },
                                    {
                                        "name": "dept_no"
                                    },
                                    {
                                        "name": "salary"
                                    },
                                    {
                                        "name": "exp_mon"
                                    }
                                ]
                            },
                            "data": []
                        },
                        "text/html": "<table><tr><th>emp_no</th><th>emp_name</th><th>DOB</th><th>address</th><th>doj</th><th>mobile_no</th><th>dept_no</th><th>salary</th><th>exp_mon</th></tr></table>"
                    },
                    "metadata": {}
                },
                {
                    "output_type": "error",
                    "ename": "",
                    "evalue": "1054 (42S22): Unknown column 'emp_id' in 'where clause'",
                    "traceback": []
                }
            ],
            "execution_count": 41
        },
        {
            "cell_type": "code",
            "source": [
                "drop table emp_details_backup;\n",
                "drop TRIGGER backup_trigger;"
            ],
            "metadata": {
                "azdata_cell_guid": "aab2336b-988e-4cf3-b07f-f4561de4af95",
                "language": "sql"
            },
            "outputs": [
                {
                    "output_type": "display_data",
                    "data": {
                        "text/html": "Commands completed successfully"
                    },
                    "metadata": {}
                },
                {
                    "output_type": "display_data",
                    "data": {
                        "text/html": "Total execution time: 00:00:00.038"
                    },
                    "metadata": {}
                },
                {
                    "output_type": "error",
                    "evalue": "1360 (HY000): Trigger does not exist",
                    "ename": "",
                    "traceback": []
                }
            ],
            "execution_count": 10
        },
        {
            "cell_type": "code",
            "source": [
                "--2.7\n",
                "\n",
                "create table buffer(\n",
                "    dept_no int,\n",
                "    dept_name varchar(255),\n",
                "    att1 int,\n",
                "    att2 int,\n",
                "    location varchar(255));\n",
                ""
            ],
            "metadata": {
                "language": "sql",
                "azdata_cell_guid": "8938200d-f581-453c-8beb-4bd7d026965b",
                "tags": []
            },
            "outputs": [
                {
                    "output_type": "display_data",
                    "data": {
                        "text/html": "Commands completed successfully"
                    },
                    "metadata": {}
                },
                {
                    "output_type": "display_data",
                    "data": {
                        "text/html": "Total execution time: 00:00:00.037"
                    },
                    "metadata": {}
                }
            ],
            "execution_count": 43
        },
        {
            "cell_type": "code",
            "source": [
                "insert into buffer(dept_no,dept_name,location) select dept_no,dept_name,location from dept_details;"
            ],
            "metadata": {
                "language": "sql",
                "azdata_cell_guid": "b2cb0a0a-0092-4ee1-b76f-34a3b5ed114d"
            },
            "outputs": [
                {
                    "output_type": "display_data",
                    "data": {
                        "text/html": "Commands completed successfully"
                    },
                    "metadata": {}
                },
                {
                    "output_type": "display_data",
                    "data": {
                        "text/html": "Total execution time: 00:00:00.006"
                    },
                    "metadata": {}
                }
            ],
            "execution_count": 44
        },
        {
            "cell_type": "code",
            "source": [
                "\n",
                "drop table dept_details;\n",
                "\n",
                "alter table buffer RENAME to dept_details;\n",
                "\n",
                "select * from dept_details;"
            ],
            "metadata": {
                "language": "sql",
                "azdata_cell_guid": "d07586d6-1537-4f00-8e73-58fd9a40b714"
            },
            "outputs": [
                {
                    "output_type": "display_data",
                    "data": {
                        "text/html": "Commands completed successfully"
                    },
                    "metadata": {}
                },
                {
                    "output_type": "display_data",
                    "data": {
                        "text/html": "Commands completed successfully"
                    },
                    "metadata": {}
                },
                {
                    "output_type": "display_data",
                    "data": {
                        "text/html": "(1 row(s) affected)"
                    },
                    "metadata": {}
                },
                {
                    "output_type": "display_data",
                    "data": {
                        "text/html": "Total execution time: 00:00:01.056"
                    },
                    "metadata": {}
                },
                {
                    "output_type": "execute_result",
                    "execution_count": 45,
                    "data": {
                        "application/vnd.dataresource+json": {
                            "schema": {
                                "fields": [
                                    {
                                        "name": "dept_no"
                                    },
                                    {
                                        "name": "dept_name"
                                    },
                                    {
                                        "name": "att1"
                                    },
                                    {
                                        "name": "att2"
                                    },
                                    {
                                        "name": "location"
                                    }
                                ]
                            },
                            "data": [
                                {
                                    "dept_no": "9",
                                    "dept_name": "dep_hi",
                                    "att1": "NULL",
                                    "att2": "NULL",
                                    "location": "dep_loc"
                                }
                            ]
                        },
                        "text/html": "<table><tr><th>dept_no</th><th>dept_name</th><th>att1</th><th>att2</th><th>location</th></tr><tr><td>9</td><td>dep_hi</td><td>NULL</td><td>NULL</td><td>dep_loc</td></tr></table>"
                    },
                    "metadata": {}
                }
            ],
            "execution_count": 45
        },
        {
            "cell_type": "code",
            "source": [
                "drop table emp_details;\n",
                "drop table dept_details;"
            ],
            "metadata": {
                "azdata_cell_guid": "d19ccd23-489d-48ff-a104-b645e545f964",
                "language": "sql",
                "tags": []
            },
            "outputs": [
                {
                    "output_type": "display_data",
                    "data": {
                        "text/html": "Total execution time: 00:00:00.029"
                    },
                    "metadata": {}
                }
            ],
            "execution_count": 47
        }
    ]
}