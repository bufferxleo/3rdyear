{
    "metadata": {
        "kernelspec": {
            "name": "SQL",
            "display_name": "SQL",
            "language": "sql"
        },
        "language_info": {
            "name": "sql",
            "version": ""
        }
    },
    "nbformat_minor": 2,
    "nbformat": 4,
    "cells": [
        {
            "cell_type": "code",
            "source": [
                "create table department(deptno int primary key, dname varchar(255), location varchar(255));\n",
                "\n",
                "create table employee(empno int primary key, ename varchar(255), designation varchar(255), manager varchar(255), hiredate date, salary int,\n",
                "commission int,deptno int,foreign key(deptno) references department(deptno));\n",
                ""
            ],
            "metadata": {
                "azdata_cell_guid": "63867c52-9875-4286-b79b-bac765a18feb",
                "language": "sql"
            },
            "outputs": [
                {
                    "output_type": "display_data",
                    "data": {
                        "text/html": "Commands completed successfully"
                    },
                    "metadata": {}
                },
                {
                    "output_type": "display_data",
                    "data": {
                        "text/html": "Commands completed successfully"
                    },
                    "metadata": {}
                },
                {
                    "output_type": "display_data",
                    "data": {
                        "text/html": "Total execution time: 00:00:00.073"
                    },
                    "metadata": {}
                }
            ],
            "execution_count": 18
        },
        {
            "cell_type": "code",
            "source": [
                "insert into department() VALUES\n",
                "    (1, 'hello', 'vizag'),\n",
                "    (2, 'hello1', 'visakhapatnam'),\n",
                "    (3, 'hello2', 'vizianagaram'),\n",
                "    (4, 'hello3', 'tirupathi'),\n",
                "    (5, 'hello4', 'vizianagaram');"
            ],
            "metadata": {
                "language": "sql",
                "azdata_cell_guid": "8a3be044-a95b-4a2c-a1b6-b213fb11bc71"
            },
            "outputs": [
                {
                    "output_type": "display_data",
                    "data": {
                        "text/html": "Commands completed successfully"
                    },
                    "metadata": {}
                },
                {
                    "output_type": "display_data",
                    "data": {
                        "text/html": "Total execution time: 00:00:00.003"
                    },
                    "metadata": {}
                }
            ],
            "execution_count": 20
        },
        {
            "cell_type": "code",
            "source": [
                "insert into employee() VALUES\n",
                "    (1, 'hi', 'salesman', \"yes\", '2020-08-01',10000.00, 2000, 3),\n",
                "    (2, 'hi2LA', 'clerk', \"no\", '2015-07-03', 9000.00, 1000.00, 2),\n",
                "    (3, 'hi3', 'manager', \"yes\", '2019-08-01', 8000.00, 200.00, 1),\n",
                "    (4, 'hi4', 'salesman', \"no\", '2015-07-03', 4000.00, 2000, 4),\n",
                "    (5, 'hi5', 'clerk', \"yes\", '2020-01-01', 9000.00, 1000, 5);"
            ],
            "metadata": {
                "language": "sql",
                "azdata_cell_guid": "85337c6c-e188-409b-a750-69cc52f576dd"
            },
            "outputs": [
                {
                    "output_type": "display_data",
                    "data": {
                        "text/html": "Commands completed successfully"
                    },
                    "metadata": {}
                },
                {
                    "output_type": "display_data",
                    "data": {
                        "text/html": "Total execution time: 00:00:00.004"
                    },
                    "metadata": {}
                }
            ],
            "execution_count": 21
        },
        {
            "cell_type": "code",
            "source": [
                "select * from employee;\n",
                "select * from department;"
            ],
            "metadata": {
                "azdata_cell_guid": "43df9e90-14ff-4e3b-b7c0-ed16774fe377",
                "language": "sql"
            },
            "outputs": [
                {
                    "output_type": "display_data",
                    "data": {
                        "text/html": "(5 row(s) affected)"
                    },
                    "metadata": {}
                },
                {
                    "output_type": "display_data",
                    "data": {
                        "text/html": "(5 row(s) affected)"
                    },
                    "metadata": {}
                },
                {
                    "output_type": "display_data",
                    "data": {
                        "text/html": "Total execution time: 00:00:02.014"
                    },
                    "metadata": {}
                },
                {
                    "output_type": "execute_result",
                    "metadata": {},
                    "execution_count": 22,
                    "data": {
                        "application/vnd.dataresource+json": {
                            "schema": {
                                "fields": [
                                    {
                                        "name": "empno"
                                    },
                                    {
                                        "name": "ename"
                                    },
                                    {
                                        "name": "designation"
                                    },
                                    {
                                        "name": "manager"
                                    },
                                    {
                                        "name": "hiredate"
                                    },
                                    {
                                        "name": "salary"
                                    },
                                    {
                                        "name": "commission"
                                    },
                                    {
                                        "name": "deptno"
                                    }
                                ]
                            },
                            "data": [
                                {
                                    "empno": "1",
                                    "ename": "hi",
                                    "designation": "salesman",
                                    "manager": "yes",
                                    "hiredate": "2020-08-01",
                                    "salary": "10000",
                                    "commission": "2000",
                                    "deptno": "3"
                                },
                                {
                                    "empno": "2",
                                    "ename": "hi2LA",
                                    "designation": "clerk",
                                    "manager": "no",
                                    "hiredate": "2015-07-03",
                                    "salary": "9000",
                                    "commission": "1000",
                                    "deptno": "2"
                                },
                                {
                                    "empno": "3",
                                    "ename": "hi3",
                                    "designation": "manager",
                                    "manager": "yes",
                                    "hiredate": "2019-08-01",
                                    "salary": "8000",
                                    "commission": "200",
                                    "deptno": "1"
                                },
                                {
                                    "empno": "4",
                                    "ename": "hi4",
                                    "designation": "salesman",
                                    "manager": "no",
                                    "hiredate": "2015-07-03",
                                    "salary": "4000",
                                    "commission": "2000",
                                    "deptno": "4"
                                },
                                {
                                    "empno": "5",
                                    "ename": "hi5",
                                    "designation": "clerk",
                                    "manager": "yes",
                                    "hiredate": "2020-01-01",
                                    "salary": "9000",
                                    "commission": "1000",
                                    "deptno": "5"
                                }
                            ]
                        },
                        "text/html": [
                            "<table>",
                            "<tr><th>empno</th><th>ename</th><th>designation</th><th>manager</th><th>hiredate</th><th>salary</th><th>commission</th><th>deptno</th></tr>",
                            "<tr><td>1</td><td>hi</td><td>salesman</td><td>yes</td><td>2020-08-01</td><td>10000</td><td>2000</td><td>3</td></tr>",
                            "<tr><td>2</td><td>hi2LA</td><td>clerk</td><td>no</td><td>2015-07-03</td><td>9000</td><td>1000</td><td>2</td></tr>",
                            "<tr><td>3</td><td>hi3</td><td>manager</td><td>yes</td><td>2019-08-01</td><td>8000</td><td>200</td><td>1</td></tr>",
                            "<tr><td>4</td><td>hi4</td><td>salesman</td><td>no</td><td>2015-07-03</td><td>4000</td><td>2000</td><td>4</td></tr>",
                            "<tr><td>5</td><td>hi5</td><td>clerk</td><td>yes</td><td>2020-01-01</td><td>9000</td><td>1000</td><td>5</td></tr>",
                            "</table>"
                        ]
                    }
                },
                {
                    "output_type": "execute_result",
                    "metadata": {},
                    "execution_count": 22,
                    "data": {
                        "application/vnd.dataresource+json": {
                            "schema": {
                                "fields": [
                                    {
                                        "name": "deptno"
                                    },
                                    {
                                        "name": "dname"
                                    },
                                    {
                                        "name": "location"
                                    }
                                ]
                            },
                            "data": [
                                {
                                    "deptno": "1",
                                    "dname": "hello",
                                    "location": "vizag"
                                },
                                {
                                    "deptno": "2",
                                    "dname": "hello1",
                                    "location": "visakhapatnam"
                                },
                                {
                                    "deptno": "3",
                                    "dname": "hello2",
                                    "location": "vizianagaram"
                                },
                                {
                                    "deptno": "4",
                                    "dname": "hello3",
                                    "location": "tirupathi"
                                },
                                {
                                    "deptno": "5",
                                    "dname": "hello4",
                                    "location": "vizianagaram"
                                }
                            ]
                        },
                        "text/html": [
                            "<table>",
                            "<tr><th>deptno</th><th>dname</th><th>location</th></tr>",
                            "<tr><td>1</td><td>hello</td><td>vizag</td></tr>",
                            "<tr><td>2</td><td>hello1</td><td>visakhapatnam</td></tr>",
                            "<tr><td>3</td><td>hello2</td><td>vizianagaram</td></tr>",
                            "<tr><td>4</td><td>hello3</td><td>tirupathi</td></tr>",
                            "<tr><td>5</td><td>hello4</td><td>vizianagaram</td></tr>",
                            "</table>"
                        ]
                    }
                }
            ],
            "execution_count": 22
        },
        {
            "cell_type": "code",
            "source": [
                "select ename from employee\n",
                "where ename like \"%LA%\";"
            ],
            "metadata": {
                "language": "sql",
                "azdata_cell_guid": "79e68276-8528-4ed6-ae6d-fd781918f853"
            },
            "outputs": [
                {
                    "output_type": "display_data",
                    "data": {
                        "text/html": "(1 row(s) affected)"
                    },
                    "metadata": {}
                },
                {
                    "output_type": "display_data",
                    "data": {
                        "text/html": "Total execution time: 00:00:01.005"
                    },
                    "metadata": {}
                },
                {
                    "output_type": "execute_result",
                    "metadata": {},
                    "execution_count": 23,
                    "data": {
                        "application/vnd.dataresource+json": {
                            "schema": {
                                "fields": [
                                    {
                                        "name": "ename"
                                    }
                                ]
                            },
                            "data": [
                                {
                                    "ename": "hi2LA"
                                }
                            ]
                        },
                        "text/html": [
                            "<table>",
                            "<tr><th>ename</th></tr>",
                            "<tr><td>hi2LA</td></tr>",
                            "</table>"
                        ]
                    }
                }
            ],
            "execution_count": 23
        },
        {
            "cell_type": "code",
            "source": [
                "select * from employee\n",
                "-- where salary >= (select avg(salary) from employee);\n",
                "where salary >=9000;\n",
                ""
            ],
            "metadata": {
                "language": "sql",
                "azdata_cell_guid": "5cddc5d5-2760-4d4a-9c7d-eaaefbd7138c"
            },
            "outputs": [
                {
                    "output_type": "display_data",
                    "data": {
                        "text/html": "(3 row(s) affected)"
                    },
                    "metadata": {}
                },
                {
                    "output_type": "display_data",
                    "data": {
                        "text/html": "Total execution time: 00:00:01.009"
                    },
                    "metadata": {}
                },
                {
                    "output_type": "execute_result",
                    "metadata": {},
                    "execution_count": 25,
                    "data": {
                        "application/vnd.dataresource+json": {
                            "schema": {
                                "fields": [
                                    {
                                        "name": "empno"
                                    },
                                    {
                                        "name": "ename"
                                    },
                                    {
                                        "name": "designation"
                                    },
                                    {
                                        "name": "manager"
                                    },
                                    {
                                        "name": "hiredate"
                                    },
                                    {
                                        "name": "salary"
                                    },
                                    {
                                        "name": "commission"
                                    },
                                    {
                                        "name": "deptno"
                                    }
                                ]
                            },
                            "data": [
                                {
                                    "empno": "1",
                                    "ename": "hi",
                                    "designation": "salesman",
                                    "manager": "yes",
                                    "hiredate": "2020-08-01",
                                    "salary": "10000",
                                    "commission": "2000",
                                    "deptno": "3"
                                },
                                {
                                    "empno": "2",
                                    "ename": "hi2LA",
                                    "designation": "clerk",
                                    "manager": "no",
                                    "hiredate": "2015-07-03",
                                    "salary": "9000",
                                    "commission": "1000",
                                    "deptno": "2"
                                },
                                {
                                    "empno": "5",
                                    "ename": "hi5",
                                    "designation": "clerk",
                                    "manager": "yes",
                                    "hiredate": "2020-01-01",
                                    "salary": "9000",
                                    "commission": "1000",
                                    "deptno": "5"
                                }
                            ]
                        },
                        "text/html": [
                            "<table>",
                            "<tr><th>empno</th><th>ename</th><th>designation</th><th>manager</th><th>hiredate</th><th>salary</th><th>commission</th><th>deptno</th></tr>",
                            "<tr><td>1</td><td>hi</td><td>salesman</td><td>yes</td><td>2020-08-01</td><td>10000</td><td>2000</td><td>3</td></tr>",
                            "<tr><td>2</td><td>hi2LA</td><td>clerk</td><td>no</td><td>2015-07-03</td><td>9000</td><td>1000</td><td>2</td></tr>",
                            "<tr><td>5</td><td>hi5</td><td>clerk</td><td>yes</td><td>2020-01-01</td><td>9000</td><td>1000</td><td>5</td></tr>",
                            "</table>"
                        ]
                    }
                }
            ],
            "execution_count": 25
        },
        {
            "cell_type": "code",
            "source": [
                "create VIEW Salesman as\n",
                "select * from employee e \n",
                "where e.designation='Salesman';\n",
                "\n",
                "select * from Salesman;"
            ],
            "metadata": {
                "language": "sql",
                "azdata_cell_guid": "1100c822-6e1e-4660-8e4f-49dbc71b3de5",
                "tags": []
            },
            "outputs": [
                {
                    "output_type": "display_data",
                    "data": {
                        "text/html": "Commands completed successfully"
                    },
                    "metadata": {}
                },
                {
                    "output_type": "display_data",
                    "data": {
                        "text/html": "(2 row(s) affected)"
                    },
                    "metadata": {}
                },
                {
                    "output_type": "display_data",
                    "data": {
                        "text/html": "Total execution time: 00:00:01.035"
                    },
                    "metadata": {}
                },
                {
                    "output_type": "execute_result",
                    "metadata": {},
                    "execution_count": 29,
                    "data": {
                        "application/vnd.dataresource+json": {
                            "schema": {
                                "fields": [
                                    {
                                        "name": "empno"
                                    },
                                    {
                                        "name": "ename"
                                    },
                                    {
                                        "name": "designation"
                                    },
                                    {
                                        "name": "manager"
                                    },
                                    {
                                        "name": "hiredate"
                                    },
                                    {
                                        "name": "salary"
                                    },
                                    {
                                        "name": "commission"
                                    },
                                    {
                                        "name": "deptno"
                                    }
                                ]
                            },
                            "data": [
                                {
                                    "empno": "1",
                                    "ename": "hi",
                                    "designation": "salesman",
                                    "manager": "yes",
                                    "hiredate": "2020-08-01",
                                    "salary": "10000",
                                    "commission": "2000",
                                    "deptno": "3"
                                },
                                {
                                    "empno": "4",
                                    "ename": "hi4",
                                    "designation": "salesman",
                                    "manager": "no",
                                    "hiredate": "2015-07-03",
                                    "salary": "4000",
                                    "commission": "2000",
                                    "deptno": "4"
                                }
                            ]
                        },
                        "text/html": [
                            "<table>",
                            "<tr><th>empno</th><th>ename</th><th>designation</th><th>manager</th><th>hiredate</th><th>salary</th><th>commission</th><th>deptno</th></tr>",
                            "<tr><td>1</td><td>hi</td><td>salesman</td><td>yes</td><td>2020-08-01</td><td>10000</td><td>2000</td><td>3</td></tr>",
                            "<tr><td>4</td><td>hi4</td><td>salesman</td><td>no</td><td>2015-07-03</td><td>4000</td><td>2000</td><td>4</td></tr>",
                            "</table>"
                        ]
                    }
                }
            ],
            "execution_count": 29
        },
        {
            "cell_type": "code",
            "source": [
                "desc employee;\n",
                "desc department;"
            ],
            "metadata": {
                "azdata_cell_guid": "c97f8304-da46-4e4e-a122-7055fbd72441",
                "language": "sql"
            },
            "outputs": [
                {
                    "output_type": "display_data",
                    "data": {
                        "text/html": "(8 row(s) affected)"
                    },
                    "metadata": {}
                },
                {
                    "output_type": "display_data",
                    "data": {
                        "text/html": "(3 row(s) affected)"
                    },
                    "metadata": {}
                },
                {
                    "output_type": "display_data",
                    "data": {
                        "text/html": "Total execution time: 00:00:02.016"
                    },
                    "metadata": {}
                },
                {
                    "output_type": "execute_result",
                    "metadata": {},
                    "execution_count": 45,
                    "data": {
                        "application/vnd.dataresource+json": {
                            "schema": {
                                "fields": [
                                    {
                                        "name": "Field"
                                    },
                                    {
                                        "name": "Type"
                                    },
                                    {
                                        "name": "Null"
                                    },
                                    {
                                        "name": "Key"
                                    },
                                    {
                                        "name": "Default"
                                    },
                                    {
                                        "name": "Extra"
                                    }
                                ]
                            },
                            "data": [
                                {
                                    "Field": "empno",
                                    "Type": "int(11)",
                                    "Null": "NO",
                                    "Key": "PRI",
                                    "Default": "NULL",
                                    "Extra": ""
                                },
                                {
                                    "Field": "ename",
                                    "Type": "varchar(255)",
                                    "Null": "YES",
                                    "Key": "",
                                    "Default": "NULL",
                                    "Extra": ""
                                },
                                {
                                    "Field": "designation",
                                    "Type": "varchar(255)",
                                    "Null": "YES",
                                    "Key": "",
                                    "Default": "NULL",
                                    "Extra": ""
                                },
                                {
                                    "Field": "manager",
                                    "Type": "varchar(255)",
                                    "Null": "YES",
                                    "Key": "",
                                    "Default": "NULL",
                                    "Extra": ""
                                },
                                {
                                    "Field": "hiredate",
                                    "Type": "date",
                                    "Null": "YES",
                                    "Key": "",
                                    "Default": "NULL",
                                    "Extra": ""
                                },
                                {
                                    "Field": "salary",
                                    "Type": "int(11)",
                                    "Null": "YES",
                                    "Key": "",
                                    "Default": "NULL",
                                    "Extra": ""
                                },
                                {
                                    "Field": "commission",
                                    "Type": "int(11)",
                                    "Null": "YES",
                                    "Key": "",
                                    "Default": "NULL",
                                    "Extra": ""
                                },
                                {
                                    "Field": "deptno",
                                    "Type": "int(11)",
                                    "Null": "YES",
                                    "Key": "MUL",
                                    "Default": "NULL",
                                    "Extra": ""
                                }
                            ]
                        },
                        "text/html": [
                            "<table>",
                            "<tr><th>Field</th><th>Type</th><th>Null</th><th>Key</th><th>Default</th><th>Extra</th></tr>",
                            "<tr><td>empno</td><td>int(11)</td><td>NO</td><td>PRI</td><td>NULL</td><td></td></tr>",
                            "<tr><td>ename</td><td>varchar(255)</td><td>YES</td><td></td><td>NULL</td><td></td></tr>",
                            "<tr><td>designation</td><td>varchar(255)</td><td>YES</td><td></td><td>NULL</td><td></td></tr>",
                            "<tr><td>manager</td><td>varchar(255)</td><td>YES</td><td></td><td>NULL</td><td></td></tr>",
                            "<tr><td>hiredate</td><td>date</td><td>YES</td><td></td><td>NULL</td><td></td></tr>",
                            "<tr><td>salary</td><td>int(11)</td><td>YES</td><td></td><td>NULL</td><td></td></tr>",
                            "<tr><td>commission</td><td>int(11)</td><td>YES</td><td></td><td>NULL</td><td></td></tr>",
                            "<tr><td>deptno</td><td>int(11)</td><td>YES</td><td>MUL</td><td>NULL</td><td></td></tr>",
                            "</table>"
                        ]
                    }
                },
                {
                    "output_type": "execute_result",
                    "metadata": {},
                    "execution_count": 45,
                    "data": {
                        "application/vnd.dataresource+json": {
                            "schema": {
                                "fields": [
                                    {
                                        "name": "Field"
                                    },
                                    {
                                        "name": "Type"
                                    },
                                    {
                                        "name": "Null"
                                    },
                                    {
                                        "name": "Key"
                                    },
                                    {
                                        "name": "Default"
                                    },
                                    {
                                        "name": "Extra"
                                    }
                                ]
                            },
                            "data": [
                                {
                                    "Field": "deptno",
                                    "Type": "int(11)",
                                    "Null": "NO",
                                    "Key": "PRI",
                                    "Default": "NULL",
                                    "Extra": ""
                                },
                                {
                                    "Field": "dname",
                                    "Type": "varchar(255)",
                                    "Null": "YES",
                                    "Key": "",
                                    "Default": "NULL",
                                    "Extra": ""
                                },
                                {
                                    "Field": "location",
                                    "Type": "varchar(255)",
                                    "Null": "YES",
                                    "Key": "",
                                    "Default": "NULL",
                                    "Extra": ""
                                }
                            ]
                        },
                        "text/html": [
                            "<table>",
                            "<tr><th>Field</th><th>Type</th><th>Null</th><th>Key</th><th>Default</th><th>Extra</th></tr>",
                            "<tr><td>deptno</td><td>int(11)</td><td>NO</td><td>PRI</td><td>NULL</td><td></td></tr>",
                            "<tr><td>dname</td><td>varchar(255)</td><td>YES</td><td></td><td>NULL</td><td></td></tr>",
                            "<tr><td>location</td><td>varchar(255)</td><td>YES</td><td></td><td>NULL</td><td></td></tr>",
                            "</table>"
                        ]
                    }
                }
            ],
            "execution_count": 45
        },
        {
            "cell_type": "code",
            "source": [
                "-- drop table employee;\n",
                "-- drop table department;\n",
                "\n",
                "drop view Salesman;"
            ],
            "metadata": {
                "language": "sql",
                "azdata_cell_guid": "81a3203d-5459-4ebd-b11c-71150482c0a9",
                "tags": []
            },
            "outputs": [
                {
                    "output_type": "display_data",
                    "data": {
                        "text/html": "Commands completed successfully"
                    },
                    "metadata": {}
                },
                {
                    "output_type": "display_data",
                    "data": {
                        "text/html": "Total execution time: 00:00:00.017"
                    },
                    "metadata": {}
                }
            ],
            "execution_count": 28
        },
        {
            "cell_type": "code",
            "source": [
                "-- 4b\n",
                "-- 4.1\n",
                "\n",
                "create table sailor(sid int primary key,sname varchar(255),rating int,age int);\n",
                "create table boats(bid int primary key, bname varchar(255), colour varchar(255));\n",
                "create table reserves(sid int, bid int , day varchar(255),foreign key(bid) references boats(bid),foreign key(sid) references sailor(sid));\n",
                ""
            ],
            "metadata": {
                "language": "sql",
                "azdata_cell_guid": "686dcc7a-f280-4808-adbd-7f1c0f49ff37",
                "tags": []
            },
            "outputs": [
                {
                    "output_type": "display_data",
                    "data": {
                        "text/html": "Commands completed successfully"
                    },
                    "metadata": {}
                },
                {
                    "output_type": "display_data",
                    "data": {
                        "text/html": "Commands completed successfully"
                    },
                    "metadata": {}
                },
                {
                    "output_type": "display_data",
                    "data": {
                        "text/html": "Commands completed successfully"
                    },
                    "metadata": {}
                },
                {
                    "output_type": "display_data",
                    "data": {
                        "text/html": "Total execution time: 00:00:00.110"
                    },
                    "metadata": {}
                }
            ],
            "execution_count": 38
        },
        {
            "cell_type": "code",
            "source": [
                "INSERT INTO sailor (sid, sname, rating, age) VALUES\n",
                "    (1, 'hi', 4, 20),\n",
                "    (2, 'hi1', 3, 19),\n",
                "    (3, 'hi2', 4, 23),\n",
                "    (4, 'hi3', 3, 26),\n",
                "    (5, 'hi4', 5, 19);\n",
                "\n",
                "INSERT INTO boats (bid, bname, colour) VALUES\n",
                "    (1, 'b1', 'RED'),\n",
                "    (2, 'b2', 'brown'),\n",
                "    (3, 'b3', 'GREEN'),\n",
                "    (4, 'b4', 'RED'),\n",
                "    (5, 'b5', 'VIOLET');\n",
                "\n",
                "INSERT INTO reserves (sid, bid, day) VALUES\n",
                "    (1, 1, 'MONDAY'),\n",
                "    (2, 2, 'TUESDAY'),\n",
                "    (3, 3, 'MONDAY'),\n",
                "    (4, 4, 'WEDNESDAY'),\n",
                "    (5, 5, 'SUNDAY');"
            ],
            "metadata": {
                "language": "sql",
                "azdata_cell_guid": "aca7cf4c-0bc8-40a7-bf34-ad04692507c5"
            },
            "outputs": [
                {
                    "output_type": "display_data",
                    "data": {
                        "text/html": "Commands completed successfully"
                    },
                    "metadata": {}
                },
                {
                    "output_type": "display_data",
                    "data": {
                        "text/html": "Commands completed successfully"
                    },
                    "metadata": {}
                },
                {
                    "output_type": "display_data",
                    "data": {
                        "text/html": "Commands completed successfully"
                    },
                    "metadata": {}
                },
                {
                    "output_type": "display_data",
                    "data": {
                        "text/html": "Total execution time: 00:00:00.033"
                    },
                    "metadata": {}
                }
            ],
            "execution_count": 39
        },
        {
            "cell_type": "code",
            "source": [
                "select * from sailor;\n",
                "select *from boats;\n",
                "select * from reserves;"
            ],
            "metadata": {
                "azdata_cell_guid": "79180330-ac7e-43bb-8b4c-aba104ea183a",
                "language": "sql"
            },
            "outputs": [
                {
                    "output_type": "display_data",
                    "data": {
                        "text/html": "(5 row(s) affected)"
                    },
                    "metadata": {}
                },
                {
                    "output_type": "display_data",
                    "data": {
                        "text/html": "(5 row(s) affected)"
                    },
                    "metadata": {}
                },
                {
                    "output_type": "display_data",
                    "data": {
                        "text/html": "(5 row(s) affected)"
                    },
                    "metadata": {}
                },
                {
                    "output_type": "display_data",
                    "data": {
                        "text/html": "Total execution time: 00:00:03.031"
                    },
                    "metadata": {}
                },
                {
                    "output_type": "execute_result",
                    "metadata": {},
                    "execution_count": 40,
                    "data": {
                        "application/vnd.dataresource+json": {
                            "schema": {
                                "fields": [
                                    {
                                        "name": "sid"
                                    },
                                    {
                                        "name": "sname"
                                    },
                                    {
                                        "name": "rating"
                                    },
                                    {
                                        "name": "age"
                                    }
                                ]
                            },
                            "data": [
                                {
                                    "sid": "1",
                                    "sname": "hi",
                                    "rating": "4",
                                    "age": "20"
                                },
                                {
                                    "sid": "2",
                                    "sname": "hi1",
                                    "rating": "3",
                                    "age": "19"
                                },
                                {
                                    "sid": "3",
                                    "sname": "hi2",
                                    "rating": "4",
                                    "age": "23"
                                },
                                {
                                    "sid": "4",
                                    "sname": "hi3",
                                    "rating": "3",
                                    "age": "26"
                                },
                                {
                                    "sid": "5",
                                    "sname": "hi4",
                                    "rating": "5",
                                    "age": "19"
                                }
                            ]
                        },
                        "text/html": [
                            "<table>",
                            "<tr><th>sid</th><th>sname</th><th>rating</th><th>age</th></tr>",
                            "<tr><td>1</td><td>hi</td><td>4</td><td>20</td></tr>",
                            "<tr><td>2</td><td>hi1</td><td>3</td><td>19</td></tr>",
                            "<tr><td>3</td><td>hi2</td><td>4</td><td>23</td></tr>",
                            "<tr><td>4</td><td>hi3</td><td>3</td><td>26</td></tr>",
                            "<tr><td>5</td><td>hi4</td><td>5</td><td>19</td></tr>",
                            "</table>"
                        ]
                    }
                },
                {
                    "output_type": "execute_result",
                    "metadata": {},
                    "execution_count": 40,
                    "data": {
                        "application/vnd.dataresource+json": {
                            "schema": {
                                "fields": [
                                    {
                                        "name": "bid"
                                    },
                                    {
                                        "name": "bname"
                                    },
                                    {
                                        "name": "colour"
                                    }
                                ]
                            },
                            "data": [
                                {
                                    "bid": "1",
                                    "bname": "b1",
                                    "colour": "RED"
                                },
                                {
                                    "bid": "2",
                                    "bname": "b2",
                                    "colour": "brown"
                                },
                                {
                                    "bid": "3",
                                    "bname": "b3",
                                    "colour": "GREEN"
                                },
                                {
                                    "bid": "4",
                                    "bname": "b4",
                                    "colour": "RED"
                                },
                                {
                                    "bid": "5",
                                    "bname": "b5",
                                    "colour": "VIOLET"
                                }
                            ]
                        },
                        "text/html": [
                            "<table>",
                            "<tr><th>bid</th><th>bname</th><th>colour</th></tr>",
                            "<tr><td>1</td><td>b1</td><td>RED</td></tr>",
                            "<tr><td>2</td><td>b2</td><td>brown</td></tr>",
                            "<tr><td>3</td><td>b3</td><td>GREEN</td></tr>",
                            "<tr><td>4</td><td>b4</td><td>RED</td></tr>",
                            "<tr><td>5</td><td>b5</td><td>VIOLET</td></tr>",
                            "</table>"
                        ]
                    }
                },
                {
                    "output_type": "execute_result",
                    "metadata": {},
                    "execution_count": 40,
                    "data": {
                        "application/vnd.dataresource+json": {
                            "schema": {
                                "fields": [
                                    {
                                        "name": "sid"
                                    },
                                    {
                                        "name": "bid"
                                    },
                                    {
                                        "name": "day"
                                    }
                                ]
                            },
                            "data": [
                                {
                                    "sid": "1",
                                    "bid": "1",
                                    "day": "MONDAY"
                                },
                                {
                                    "sid": "2",
                                    "bid": "2",
                                    "day": "TUESDAY"
                                },
                                {
                                    "sid": "3",
                                    "bid": "3",
                                    "day": "MONDAY"
                                },
                                {
                                    "sid": "4",
                                    "bid": "4",
                                    "day": "WEDNESDAY"
                                },
                                {
                                    "sid": "5",
                                    "bid": "5",
                                    "day": "SUNDAY"
                                }
                            ]
                        },
                        "text/html": [
                            "<table>",
                            "<tr><th>sid</th><th>bid</th><th>day</th></tr>",
                            "<tr><td>1</td><td>1</td><td>MONDAY</td></tr>",
                            "<tr><td>2</td><td>2</td><td>TUESDAY</td></tr>",
                            "<tr><td>3</td><td>3</td><td>MONDAY</td></tr>",
                            "<tr><td>4</td><td>4</td><td>WEDNESDAY</td></tr>",
                            "<tr><td>5</td><td>5</td><td>SUNDAY</td></tr>",
                            "</table>"
                        ]
                    }
                }
            ],
            "execution_count": 40
        },
        {
            "cell_type": "code",
            "source": [
                "select * from sailor order by rating desc;"
            ],
            "metadata": {
                "azdata_cell_guid": "bb8ae044-8f85-4acf-ba49-8e081bf1e4be",
                "language": "sql"
            },
            "outputs": [
                {
                    "output_type": "display_data",
                    "data": {
                        "text/html": "(5 row(s) affected)"
                    },
                    "metadata": {}
                },
                {
                    "output_type": "display_data",
                    "data": {
                        "text/html": "Total execution time: 00:00:01.006"
                    },
                    "metadata": {}
                },
                {
                    "output_type": "execute_result",
                    "metadata": {},
                    "execution_count": 41,
                    "data": {
                        "application/vnd.dataresource+json": {
                            "schema": {
                                "fields": [
                                    {
                                        "name": "sid"
                                    },
                                    {
                                        "name": "sname"
                                    },
                                    {
                                        "name": "rating"
                                    },
                                    {
                                        "name": "age"
                                    }
                                ]
                            },
                            "data": [
                                {
                                    "sid": "5",
                                    "sname": "hi4",
                                    "rating": "5",
                                    "age": "19"
                                },
                                {
                                    "sid": "1",
                                    "sname": "hi",
                                    "rating": "4",
                                    "age": "20"
                                },
                                {
                                    "sid": "3",
                                    "sname": "hi2",
                                    "rating": "4",
                                    "age": "23"
                                },
                                {
                                    "sid": "2",
                                    "sname": "hi1",
                                    "rating": "3",
                                    "age": "19"
                                },
                                {
                                    "sid": "4",
                                    "sname": "hi3",
                                    "rating": "3",
                                    "age": "26"
                                }
                            ]
                        },
                        "text/html": [
                            "<table>",
                            "<tr><th>sid</th><th>sname</th><th>rating</th><th>age</th></tr>",
                            "<tr><td>5</td><td>hi4</td><td>5</td><td>19</td></tr>",
                            "<tr><td>1</td><td>hi</td><td>4</td><td>20</td></tr>",
                            "<tr><td>3</td><td>hi2</td><td>4</td><td>23</td></tr>",
                            "<tr><td>2</td><td>hi1</td><td>3</td><td>19</td></tr>",
                            "<tr><td>4</td><td>hi3</td><td>3</td><td>26</td></tr>",
                            "</table>"
                        ]
                    }
                }
            ],
            "execution_count": 41
        },
        {
            "cell_type": "code",
            "source": [
                "select s.sname from sailor s\n",
                "join reserves r on r.sid=s.sid \n",
                "join boats b on b.bid=r.bid\n",
                "where b.colour='RED' or b.colour='GREEN';"
            ],
            "metadata": {
                "language": "sql",
                "azdata_cell_guid": "aa7f30d7-9a0a-45b2-8ac0-937926698cef",
                "tags": []
            },
            "outputs": [
                {
                    "output_type": "display_data",
                    "data": {
                        "text/html": "(3 row(s) affected)"
                    },
                    "metadata": {}
                },
                {
                    "output_type": "display_data",
                    "data": {
                        "text/html": "Total execution time: 00:00:01.005"
                    },
                    "metadata": {}
                },
                {
                    "output_type": "execute_result",
                    "metadata": {},
                    "execution_count": 42,
                    "data": {
                        "application/vnd.dataresource+json": {
                            "schema": {
                                "fields": [
                                    {
                                        "name": "sname"
                                    }
                                ]
                            },
                            "data": [
                                {
                                    "sname": "hi"
                                },
                                {
                                    "sname": "hi2"
                                },
                                {
                                    "sname": "hi3"
                                }
                            ]
                        },
                        "text/html": [
                            "<table>",
                            "<tr><th>sname</th></tr>",
                            "<tr><td>hi</td></tr>",
                            "<tr><td>hi2</td></tr>",
                            "<tr><td>hi3</td></tr>",
                            "</table>"
                        ]
                    }
                }
            ],
            "execution_count": 42
        },
        {
            "cell_type": "code",
            "source": [
                "SELECT *\n",
                "FROM sailor s1\n",
                "WHERE s1.rating > ALL (SELECT rating FROM sailor WHERE sid > s1.sid);"
            ],
            "metadata": {
                "language": "sql",
                "azdata_cell_guid": "cd9ae8cc-885c-4a38-af23-93511f52ec93"
            },
            "outputs": [
                {
                    "output_type": "display_data",
                    "data": {
                        "text/html": "(1 row(s) affected)"
                    },
                    "metadata": {}
                },
                {
                    "output_type": "display_data",
                    "data": {
                        "text/html": "Total execution time: 00:00:01.007"
                    },
                    "metadata": {}
                },
                {
                    "output_type": "execute_result",
                    "metadata": {},
                    "execution_count": 44,
                    "data": {
                        "application/vnd.dataresource+json": {
                            "schema": {
                                "fields": [
                                    {
                                        "name": "sid"
                                    },
                                    {
                                        "name": "sname"
                                    },
                                    {
                                        "name": "rating"
                                    },
                                    {
                                        "name": "age"
                                    }
                                ]
                            },
                            "data": [
                                {
                                    "sid": "5",
                                    "sname": "hi4",
                                    "rating": "5",
                                    "age": "19"
                                }
                            ]
                        },
                        "text/html": [
                            "<table>",
                            "<tr><th>sid</th><th>sname</th><th>rating</th><th>age</th></tr>",
                            "<tr><td>5</td><td>hi4</td><td>5</td><td>19</td></tr>",
                            "</table>"
                        ]
                    }
                }
            ],
            "execution_count": 44
        },
        {
            "cell_type": "code",
            "source": [
                "desc sailor;\n",
                "desc boats;\n",
                "desc reserves;"
            ],
            "metadata": {
                "azdata_cell_guid": "86c663d0-e3cf-424d-8964-8485bcd47e86",
                "language": "sql"
            },
            "outputs": [
{
    "output_type": "display_data",
    "data": {
        "text/html": "(4 row(s) affected)"
    },
    "metadata": {}
}, {
    "output_type": "display_data",
    "data": {
        "text/html": "(3 row(s) affected)"
    },
    "metadata": {}
}, {
    "output_type": "display_data",
    "data": {
        "text/html": "(3 row(s) affected)"
    },
    "metadata": {}
}, {
    "output_type": "display_data",
    "data": {
        "text/html": "Total execution time: 00:00:03.029"
    },
    "metadata": {}
}, {
    "output_type": "execute_result",
    "metadata": {},
    "execution_count": 48,
    "data": {
        "application/vnd.dataresource+json": {
            "schema": {
                "fields": [
                    {
                        "name": "Field"
                    },
                    {
                        "name": "Type"
                    },
                    {
                        "name": "Null"
                    },
                    {
                        "name": "Key"
                    },
                    {
                        "name": "Default"
                    },
                    {
                        "name": "Extra"
                    }
                ]
            },
            "data": [
                {
                    "Field": "sid",
                    "Type": "int(11)",
                    "Null": "NO",
                    "Key": "PRI",
                    "Default": "NULL",
                    "Extra": ""
                },
                {
                    "Field": "sname",
                    "Type": "varchar(255)",
                    "Null": "YES",
                    "Key": "",
                    "Default": "NULL",
                    "Extra": ""
                },
                {
                    "Field": "rating",
                    "Type": "int(11)",
                    "Null": "YES",
                    "Key": "",
                    "Default": "NULL",
                    "Extra": ""
                },
                {
                    "Field": "age",
                    "Type": "int(11)",
                    "Null": "YES",
                    "Key": "",
                    "Default": "NULL",
                    "Extra": ""
                }
            ]
        },
        "text/html": [
            "<table>",
            "<tr><th>Field</th><th>Type</th><th>Null</th><th>Key</th><th>Default</th><th>Extra</th></tr>",
            "<tr><td>sid</td><td>int(11)</td><td>NO</td><td>PRI</td><td>NULL</td><td></td></tr>",
            "<tr><td>sname</td><td>varchar(255)</td><td>YES</td><td></td><td>NULL</td><td></td></tr>",
            "<tr><td>rating</td><td>int(11)</td><td>YES</td><td></td><td>NULL</td><td></td></tr>",
            "<tr><td>age</td><td>int(11)</td><td>YES</td><td></td><td>NULL</td><td></td></tr>",
            "</table>"
        ]
    }
}, {
    "output_type": "execute_result",
    "metadata": {},
    "execution_count": 48,
    "data": {
        "application/vnd.dataresource+json": {
            "schema": {
                "fields": [
                    {
                        "name": "Field"
                    },
                    {
                        "name": "Type"
                    },
                    {
                        "name": "Null"
                    },
                    {
                        "name": "Key"
                    },
                    {
                        "name": "Default"
                    },
                    {
                        "name": "Extra"
                    }
                ]
            },
            "data": [
                {
                    "Field": "bid",
                    "Type": "int(11)",
                    "Null": "NO",
                    "Key": "PRI",
                    "Default": "NULL",
                    "Extra": ""
                },
                {
                    "Field": "bname",
                    "Type": "varchar(255)",
                    "Null": "YES",
                    "Key": "",
                    "Default": "NULL",
                    "Extra": ""
                },
                {
                    "Field": "colour",
                    "Type": "varchar(255)",
                    "Null": "YES",
                    "Key": "",
                    "Default": "NULL",
                    "Extra": ""
                }
            ]
        },
        "text/html": [
            "<table>",
            "<tr><th>Field</th><th>Type</th><th>Null</th><th>Key</th><th>Default</th><th>Extra</th></tr>",
            "<tr><td>bid</td><td>int(11)</td><td>NO</td><td>PRI</td><td>NULL</td><td></td></tr>",
            "<tr><td>bname</td><td>varchar(255)</td><td>YES</td><td></td><td>NULL</td><td></td></tr>",
            "<tr><td>colour</td><td>varchar(255)</td><td>YES</td><td></td><td>NULL</td><td></td></tr>",
            "</table>"
        ]
    }
}, {
    "output_type": "execute_result",
    "metadata": {},
    "execution_count": 48,
    "data": {
        "application/vnd.dataresource+json": {
            "schema": {
                "fields": [
                    {
                        "name": "Field"
                    },
                    {
                        "name": "Type"
                    },
                    {
                        "name": "Null"
                    },
                    {
                        "name": "Key"
                    },
                    {
                        "name": "Default"
                    },
                    {
                        "name": "Extra"
                    }
                ]
            },
            "data": [
                {
                    "Field": "sid",
                    "Type": "int(11)",
                    "Null": "YES",
                    "Key": "MUL",
                    "Default": "NULL",
                    "Extra": ""
                },
                {
                    "Field": "bid",
                    "Type": "int(11)",
                    "Null": "YES",
                    "Key": "MUL",
                    "Default": "NULL",
                    "Extra": ""
                },
                {
                    "Field": "day",
                    "Type": "varchar(255)",
                    "Null": "YES",
                    "Key": "",
                    "Default": "NULL",
                    "Extra": ""
                }
            ]
        },
        "text/html": [
            "<table>",
            "<tr><th>Field</th><th>Type</th><th>Null</th><th>Key</th><th>Default</th><th>Extra</th></tr>",
            "<tr><td>sid</td><td>int(11)</td><td>YES</td><td>MUL</td><td>NULL</td><td></td></tr>",
            "<tr><td>bid</td><td>int(11)</td><td>YES</td><td>MUL</td><td>NULL</td><td></td></tr>",
            "<tr><td>day</td><td>varchar(255)</td><td>YES</td><td></td><td>NULL</td><td></td></tr>",
            "</table>"
        ]
    }
}
],
            "execution_count": 48
        },
        {
            "cell_type": "code",
            "source": [
                "-- drop table reserves;\n",
                "-- drop table sailor;\n",
                "-- drop table boats;\n",
                ""
            ],
            "metadata": {
                "azdata_cell_guid": "2078244d-7e25-4822-bef4-029694eea5fb",
                "language": "sql"
            },
            "outputs": [
                {
                    "output_type": "display_data",
                    "data": {
                        "text/html": "Commands completed successfully"
                    },
                    "metadata": {}
                },
                {
                    "output_type": "display_data",
                    "data": {
                        "text/html": "Commands completed successfully"
                    },
                    "metadata": {}
                },
                {
                    "output_type": "display_data",
                    "data": {
                        "text/html": "Commands completed successfully"
                    },
                    "metadata": {}
                },
                {
                    "output_type": "display_data",
                    "data": {
                        "text/html": "Total execution time: 00:00:00.080"
                    },
                    "metadata": {}
                }
            ],
            "execution_count": 37
        }
    ]
}