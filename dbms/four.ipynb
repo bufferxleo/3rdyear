{
    "metadata": {
        "kernelspec": {
            "name": "SQL",
            "display_name": "SQL",
            "language": "sql"
        },
        "language_info": {
            "name": "sql",
            "version": ""
        }
    },
    "nbformat_minor": 2,
    "nbformat": 4,
    "cells": [
        {
            "cell_type": "code",
            "source": [
                "create table department(deptno int primary key, dname varchar(255), location varchar(255));\n",
                "\n",
                "create table employee(empno int primary key, ename varchar(255), designation varchar(255), manager varchar(255), hiredate date, salary int,\n",
                "commission int,deptno int,foreign key(deptno) references department(deptno));\n",
                ""
            ],
            "metadata": {
                "azdata_cell_guid": "63867c52-9875-4286-b79b-bac765a18feb",
                "language": "sql"
            },
            "outputs": [
                {
                    "output_type": "display_data",
                    "data": {
                        "text/html": "Commands completed successfully"
                    },
                    "metadata": {}
                },
                {
                    "output_type": "display_data",
                    "data": {
                        "text/html": "Commands completed successfully"
                    },
                    "metadata": {}
                },
                {
                    "output_type": "display_data",
                    "data": {
                        "text/html": "Total execution time: 00:00:00.090"
                    },
                    "metadata": {}
                }
            ],
            "execution_count": 43
        },
        {
            "cell_type": "code",
            "source": [
                "insert into department() VALUES\n",
                "    (10, 'Sales', 'New York'),\n",
                "    (20, 'Marketing', 'Los Angeles'),\n",
                "    (30, 'HR', 'Chicago'),\n",
                "    (40, 'Finance', 'San Francisco'),\n",
                "    (50, 'IT', 'Seattle');"
            ],
            "metadata": {
                "language": "sql",
                "azdata_cell_guid": "8a3be044-a95b-4a2c-a1b6-b213fb11bc71"
            },
            "outputs": [
                {
                    "output_type": "display_data",
                    "data": {
                        "text/html": "Commands completed successfully"
                    },
                    "metadata": {}
                },
                {
                    "output_type": "display_data",
                    "data": {
                        "text/html": "Total execution time: 00:00:00.004"
                    },
                    "metadata": {}
                }
            ],
            "execution_count": 44
        },
        {
            "cell_type": "code",
            "source": [
                "insert into employee() VALUES\n",
                "    (1, 'John Smith', 'Manager', NULL, '2023-01-15', 7000.00, NULL, 10),\n",
                "    (2, 'Alice Lane', 'Salesman', 1, '2023-02-20', 5000.00, 200.00, 10),\n",
                "    (3, 'Robert Larson', 'Salesman', 1, '2023-03-12', 4800.00, 300.00, 10),\n",
                "    (4, 'Mary Johnson', 'Manager', NULL, '2023-04-25', 8000.00, NULL, 20),\n",
                "    (5, 'Laura Williams', 'Clerk', 4, '2023-05-03', 3000.00, NULL, 20);"
            ],
            "metadata": {
                "language": "sql",
                "azdata_cell_guid": "85337c6c-e188-409b-a750-69cc52f576dd"
            },
            "outputs": [
                {
                    "output_type": "display_data",
                    "data": {
                        "text/html": "Commands completed successfully"
                    },
                    "metadata": {}
                },
                {
                    "output_type": "display_data",
                    "data": {
                        "text/html": "Total execution time: 00:00:00.003"
                    },
                    "metadata": {}
                }
            ],
            "execution_count": 45
        },
        {
            "cell_type": "code",
            "source": [
                "select ename from employee\n",
                "where ename like \"%LA%\";"
            ],
            "metadata": {
                "language": "sql",
                "azdata_cell_guid": "79e68276-8528-4ed6-ae6d-fd781918f853"
            },
            "outputs": [
                {
                    "output_type": "display_data",
                    "data": {
                        "text/html": "(3 row(s) affected)"
                    },
                    "metadata": {}
                },
                {
                    "output_type": "display_data",
                    "data": {
                        "text/html": "Total execution time: 00:00:01.003"
                    },
                    "metadata": {}
                },
                {
                    "output_type": "execute_result",
                    "execution_count": 46,
                    "data": {
                        "application/vnd.dataresource+json": {
                            "schema": {
                                "fields": [
                                    {
                                        "name": "ename"
                                    }
                                ]
                            },
                            "data": [
                                {
                                    "ename": "Alice Lane"
                                },
                                {
                                    "ename": "Robert Larson"
                                },
                                {
                                    "ename": "Laura Williams"
                                }
                            ]
                        },
                        "text/html": "<table><tr><th>ename</th></tr><tr><td>Alice Lane</td></tr><tr><td>Robert Larson</td></tr><tr><td>Laura Williams</td></tr></table>"
                    },
                    "metadata": {}
                }
            ],
            "execution_count": 46
        },
        {
            "cell_type": "code",
            "source": [
                "select * from employee\n",
                "where salary >= (select avg(salary) from employee);"
            ],
            "metadata": {
                "language": "sql",
                "azdata_cell_guid": "5cddc5d5-2760-4d4a-9c7d-eaaefbd7138c"
            },
            "outputs": [
                {
                    "output_type": "display_data",
                    "data": {
                        "text/html": "(2 row(s) affected)"
                    },
                    "metadata": {}
                },
                {
                    "output_type": "display_data",
                    "data": {
                        "text/html": "Total execution time: 00:00:01.013"
                    },
                    "metadata": {}
                },
                {
                    "output_type": "execute_result",
                    "execution_count": 47,
                    "data": {
                        "application/vnd.dataresource+json": {
                            "schema": {
                                "fields": [
                                    {
                                        "name": "empno"
                                    },
                                    {
                                        "name": "ename"
                                    },
                                    {
                                        "name": "designation"
                                    },
                                    {
                                        "name": "manager"
                                    },
                                    {
                                        "name": "hiredate"
                                    },
                                    {
                                        "name": "salary"
                                    },
                                    {
                                        "name": "commission"
                                    },
                                    {
                                        "name": "deptno"
                                    }
                                ]
                            },
                            "data": [
                                {
                                    "empno": "1",
                                    "ename": "John Smith",
                                    "designation": "Manager",
                                    "manager": "NULL",
                                    "hiredate": "2023-01-15",
                                    "salary": "7000",
                                    "commission": "NULL",
                                    "deptno": "10"
                                },
                                {
                                    "empno": "4",
                                    "ename": "Mary Johnson",
                                    "designation": "Manager",
                                    "manager": "NULL",
                                    "hiredate": "2023-04-25",
                                    "salary": "8000",
                                    "commission": "NULL",
                                    "deptno": "20"
                                }
                            ]
                        },
                        "text/html": "<table><tr><th>empno</th><th>ename</th><th>designation</th><th>manager</th><th>hiredate</th><th>salary</th><th>commission</th><th>deptno</th></tr><tr><td>1</td><td>John Smith</td><td>Manager</td><td>NULL</td><td>2023-01-15</td><td>7000</td><td>NULL</td><td>10</td></tr><tr><td>4</td><td>Mary Johnson</td><td>Manager</td><td>NULL</td><td>2023-04-25</td><td>8000</td><td>NULL</td><td>20</td></tr></table>"
                    },
                    "metadata": {}
                }
            ],
            "execution_count": 47
        },
        {
            "cell_type": "code",
            "source": [
                "create VIEW Salesman as\n",
                "select e.ename from employee e \n",
                "join department dpt on e.deptno=dpt.deptno\n",
                "where e.designation='Salesman';\n",
                "\n",
                "select * from Salesman;"
            ],
            "metadata": {
                "language": "sql",
                "azdata_cell_guid": "1100c822-6e1e-4660-8e4f-49dbc71b3de5",
                "tags": []
            },
            "outputs": [
                {
                    "output_type": "display_data",
                    "data": {
                        "text/html": "Commands completed successfully"
                    },
                    "metadata": {}
                },
                {
                    "output_type": "display_data",
                    "data": {
                        "text/html": "(2 row(s) affected)"
                    },
                    "metadata": {}
                },
                {
                    "output_type": "display_data",
                    "data": {
                        "text/html": "Total execution time: 00:00:01.022"
                    },
                    "metadata": {}
                },
                {
                    "output_type": "execute_result",
                    "execution_count": 55,
                    "data": {
                        "application/vnd.dataresource+json": {
                            "schema": {
                                "fields": [
                                    {
                                        "name": "ename"
                                    }
                                ]
                            },
                            "data": [
                                {
                                    "ename": "Alice Lane"
                                },
                                {
                                    "ename": "Robert Larson"
                                }
                            ]
                        },
                        "text/html": "<table><tr><th>ename</th></tr><tr><td>Alice Lane</td></tr><tr><td>Robert Larson</td></tr></table>"
                    },
                    "metadata": {}
                }
            ],
            "execution_count": 55
        },
        {
            "cell_type": "code",
            "source": [
                "-- drop table employee;\n",
                "-- drop table department;\n",
                "\n",
                "-- drop view Salesman;"
            ],
            "metadata": {
                "language": "sql",
                "azdata_cell_guid": "81a3203d-5459-4ebd-b11c-71150482c0a9",
                "tags": []
            },
            "outputs": [
                {
                    "output_type": "display_data",
                    "data": {
                        "text/html": "Commands completed successfully"
                    },
                    "metadata": {}
                },
                {
                    "output_type": "display_data",
                    "data": {
                        "text/html": "Total execution time: 00:00:00.017"
                    },
                    "metadata": {}
                }
            ],
            "execution_count": 54
        },
        {
            "cell_type": "code",
            "source": [
                "-- 4b\n",
                "-- 4.1\n",
                "\n",
                "create table sailor(sid int primary key,sname varchar(255),rating int,age int);\n",
                "create table boats(bid int primary key, bname varchar(255), colour varchar(255));\n",
                "create table reserves(sid int, bid int , day varchar(255),foreign key(bid) references boats(bid),foreign key(sid) references sailor(sid));\n",
                ""
            ],
            "metadata": {
                "language": "sql",
                "azdata_cell_guid": "686dcc7a-f280-4808-adbd-7f1c0f49ff37",
                "tags": []
            },
            "outputs": [
                {
                    "output_type": "display_data",
                    "data": {
                        "text/html": "Commands completed successfully"
                    },
                    "metadata": {}
                },
                {
                    "output_type": "display_data",
                    "data": {
                        "text/html": "Commands completed successfully"
                    },
                    "metadata": {}
                },
                {
                    "output_type": "display_data",
                    "data": {
                        "text/html": "Commands completed successfully"
                    },
                    "metadata": {}
                },
                {
                    "output_type": "display_data",
                    "data": {
                        "text/html": "Total execution time: 00:00:00.132"
                    },
                    "metadata": {}
                }
            ],
            "execution_count": 91
        },
        {
            "cell_type": "code",
            "source": [
                "INSERT INTO sailor (sid, sname, rating, age) VALUES\n",
                "    (1, 'John', 8, 30),\n",
                "    (2, 'Alice', 9, 25),\n",
                "    (3, 'Bob', 7, 28),\n",
                "    (4, 'Carol', 8, 32),\n",
                "    (5, 'David', 9, 22);\n",
                "\n",
                "INSERT INTO boats (bid, bname, colour) VALUES\n",
                "    (101, 'BoatA', 'RED'),\n",
                "    (102, 'BoatB', 'GREEN'),\n",
                "    (103, 'BoatC', 'RED'),\n",
                "    (104, 'BoatD', 'BLUE'),\n",
                "    (105, 'BoatE', 'GREEN');\n",
                "\n",
                "INSERT INTO reserves (sid, bid, day) VALUES\n",
                "    (1, 101, '2023-01-15'),\n",
                "    (1, 102, '2023-02-20'),\n",
                "    (2, 101, '2023-03-12'),\n",
                "    (2, 102, '2023-04-25'),\n",
                "    (3, 102, '2023-05-03');"
            ],
            "metadata": {
                "language": "sql",
                "azdata_cell_guid": "aca7cf4c-0bc8-40a7-bf34-ad04692507c5"
            },
            "outputs": [
                {
                    "output_type": "display_data",
                    "data": {
                        "text/html": "Commands completed successfully"
                    },
                    "metadata": {}
                },
                {
                    "output_type": "display_data",
                    "data": {
                        "text/html": "Commands completed successfully"
                    },
                    "metadata": {}
                },
                {
                    "output_type": "display_data",
                    "data": {
                        "text/html": "Commands completed successfully"
                    },
                    "metadata": {}
                },
                {
                    "output_type": "display_data",
                    "data": {
                        "text/html": "Total execution time: 00:00:00.020"
                    },
                    "metadata": {}
                }
            ],
            "execution_count": 92
        },
        {
            "cell_type": "code",
            "source": [
                "select * from sailor order by rating desc;"
            ],
            "metadata": {
                "azdata_cell_guid": "bb8ae044-8f85-4acf-ba49-8e081bf1e4be",
                "language": "sql"
            },
            "outputs": [
                {
                    "output_type": "display_data",
                    "data": {
                        "text/html": "(5 row(s) affected)"
                    },
                    "metadata": {}
                },
                {
                    "output_type": "display_data",
                    "data": {
                        "text/html": "Total execution time: 00:00:01.009"
                    },
                    "metadata": {}
                },
                {
                    "output_type": "execute_result",
                    "execution_count": 95,
                    "data": {
                        "application/vnd.dataresource+json": {
                            "schema": {
                                "fields": [
                                    {
                                        "name": "sid"
                                    },
                                    {
                                        "name": "sname"
                                    },
                                    {
                                        "name": "rating"
                                    },
                                    {
                                        "name": "age"
                                    }
                                ]
                            },
                            "data": [
                                {
                                    "sid": "2",
                                    "sname": "Alice",
                                    "rating": "9",
                                    "age": "25"
                                },
                                {
                                    "sid": "5",
                                    "sname": "David",
                                    "rating": "9",
                                    "age": "22"
                                },
                                {
                                    "sid": "1",
                                    "sname": "John",
                                    "rating": "8",
                                    "age": "30"
                                },
                                {
                                    "sid": "4",
                                    "sname": "Carol",
                                    "rating": "8",
                                    "age": "32"
                                },
                                {
                                    "sid": "3",
                                    "sname": "Bob",
                                    "rating": "7",
                                    "age": "28"
                                }
                            ]
                        },
                        "text/html": "<table><tr><th>sid</th><th>sname</th><th>rating</th><th>age</th></tr><tr><td>2</td><td>Alice</td><td>9</td><td>25</td></tr><tr><td>5</td><td>David</td><td>9</td><td>22</td></tr><tr><td>1</td><td>John</td><td>8</td><td>30</td></tr><tr><td>4</td><td>Carol</td><td>8</td><td>32</td></tr><tr><td>3</td><td>Bob</td><td>7</td><td>28</td></tr></table>"
                    },
                    "metadata": {}
                }
            ],
            "execution_count": 95
        },
        {
            "cell_type": "code",
            "source": [
                "select s.sname from sailor s\n",
                "join reserves r on r.sid=s.sid \n",
                "join boats b on b.bid=r.bid\n",
                "where b.colour='RED' or b.colour='GREEN';"
            ],
            "metadata": {
                "language": "sql",
                "azdata_cell_guid": "aa7f30d7-9a0a-45b2-8ac0-937926698cef",
                "tags": []
            },
            "outputs": [
                {
                    "output_type": "display_data",
                    "data": {
                        "text/html": "(5 row(s) affected)"
                    },
                    "metadata": {}
                },
                {
                    "output_type": "display_data",
                    "data": {
                        "text/html": "Total execution time: 00:00:01.008"
                    },
                    "metadata": {}
                },
                {
                    "output_type": "execute_result",
                    "execution_count": 98,
                    "data": {
                        "application/vnd.dataresource+json": {
                            "schema": {
                                "fields": [
                                    {
                                        "name": "sname"
                                    }
                                ]
                            },
                            "data": [
                                {
                                    "sname": "John"
                                },
                                {
                                    "sname": "John"
                                },
                                {
                                    "sname": "Alice"
                                },
                                {
                                    "sname": "Alice"
                                },
                                {
                                    "sname": "Bob"
                                }
                            ]
                        },
                        "text/html": "<table><tr><th>sname</th></tr><tr><td>John</td></tr><tr><td>John</td></tr><tr><td>Alice</td></tr><tr><td>Alice</td></tr><tr><td>Bob</td></tr></table>"
                    },
                    "metadata": {}
                }
            ],
            "execution_count": 98
        },
        {
            "cell_type": "code",
            "source": [
                "SELECT s1.sid, s1.sname\n",
                "FROM sailor s1\n",
                "WHERE s1.rating > ALL (SELECT rating FROM sailor WHERE sid > s1.sid);"
            ],
            "metadata": {
                "language": "sql",
                "azdata_cell_guid": "cd9ae8cc-885c-4a38-af23-93511f52ec93"
            },
            "outputs": [
                {
                    "output_type": "display_data",
                    "data": {
                        "text/html": "(1 row(s) affected)"
                    },
                    "metadata": {}
                },
                {
                    "output_type": "display_data",
                    "data": {
                        "text/html": "Total execution time: 00:00:01.010"
                    },
                    "metadata": {}
                },
                {
                    "output_type": "execute_result",
                    "execution_count": 102,
                    "data": {
                        "application/vnd.dataresource+json": {
                            "schema": {
                                "fields": [
                                    {
                                        "name": "sid"
                                    },
                                    {
                                        "name": "sname"
                                    }
                                ]
                            },
                            "data": [
                                {
                                    "sid": "5",
                                    "sname": "David"
                                }
                            ]
                        },
                        "text/html": "<table><tr><th>sid</th><th>sname</th></tr><tr><td>5</td><td>David</td></tr></table>"
                    },
                    "metadata": {}
                }
            ],
            "execution_count": 102
        },
        {
            "cell_type": "code",
            "source": [
                "-- drop table reserves;\n",
                "-- drop table sailor;\n",
                "-- drop table boats;\n",
                ""
            ],
            "metadata": {
                "azdata_cell_guid": "2078244d-7e25-4822-bef4-029694eea5fb",
                "language": "sql"
            },
            "outputs": [
                {
                    "output_type": "display_data",
                    "data": {
                        "text/html": "Commands completed successfully"
                    },
                    "metadata": {}
                },
                {
                    "output_type": "display_data",
                    "data": {
                        "text/html": "Commands completed successfully"
                    },
                    "metadata": {}
                },
                {
                    "output_type": "display_data",
                    "data": {
                        "text/html": "Commands completed successfully"
                    },
                    "metadata": {}
                },
                {
                    "output_type": "display_data",
                    "data": {
                        "text/html": "Total execution time: 00:00:00.072"
                    },
                    "metadata": {}
                }
            ],
            "execution_count": 90
        }
    ]
}