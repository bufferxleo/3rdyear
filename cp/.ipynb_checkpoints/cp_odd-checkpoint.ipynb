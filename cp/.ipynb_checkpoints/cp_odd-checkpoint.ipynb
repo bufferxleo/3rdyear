{
 "cells": [
  {
   "cell_type": "code",
   "execution_count": 46,
   "id": "1a4510f1",
   "metadata": {},
   "outputs": [
    {
     "name": "stdout",
     "output_type": "stream",
     "text": [
      "1 -3 5 2 -8 4 7\n",
      "11\n",
      "11\n",
      "11\n"
     ]
    }
   ],
   "source": [
    "#1\n",
    "\n",
    "l=list(map(int,input().split()))\n",
    "\n",
    "c=0\n",
    "maxi=0\n",
    "for i in range(len(l)):\n",
    "    for j in range(len(l)+1):\n",
    "        c=sum(l[i:j])\n",
    "        maxi=max(c,maxi)\n",
    "print(maxi)\n",
    "\n",
    "c=0\n",
    "maxi=0\n",
    "for i in l:\n",
    "    if c+i<0:\n",
    "        c=0\n",
    "    else:\n",
    "        c+=i\n",
    "    maxi=max(c,maxi)\n",
    "print(maxi)\n",
    "\n",
    "\n",
    "x=y=l[0]\n",
    "for i in l[1:]:\n",
    "    x=max(i,x+i)\n",
    "    y=max(y,x)\n",
    "print(y)"
   ]
  },
  {
   "cell_type": "code",
   "execution_count": null,
   "id": "56d4a6ea",
   "metadata": {},
   "outputs": [
    {
     "name": "stdout",
     "output_type": "stream",
     "text": [
      "25 17\n"
     ]
    }
   ],
   "source": [
    "#3\n",
    "\n",
    "x=0\n",
    "y=999999999\n",
    "\n",
    "a,b=map(int,input().split())\n",
    "if b!=0:\n",
    "    mid=0\n",
    "    sign=1\n",
    "    if a*b<0:\n",
    "        sign=-1\n",
    "    a,b=abs(a),abs(b)\n",
    "    while a/b != float(f\"{mid:.5f}\") and a/b != float(f\"{mid:.5f}\")*b:\n",
    "        mid=(x+y)/2\n",
    "        if a/b>float(f\"{mid:.5f}\"):\n",
    "            x=mid\n",
    "        elif a/b<float(f\"{mid:.5f}\"):\n",
    "            y=mid\n",
    "        else:\n",
    "            print(sign*float(f\"{mid:.5f}\"))\n",
    "            break\n",
    "else:\n",
    "    print(\"zero div\")"
   ]
  },
  {
   "cell_type": "code",
   "execution_count": 17,
   "id": "7fbda5ec",
   "metadata": {},
   "outputs": [
    {
     "name": "stdout",
     "output_type": "stream",
     "text": [
      "give range1 10\n",
      "20\n"
     ]
    }
   ],
   "source": [
    "#5\n",
    "\n",
    "\n",
    "\n",
    "def fun(n,c):\n",
    "    if n==1:\n",
    "        c+=1\n",
    "        return c\n",
    "    elif n%2==0:\n",
    "        c+=1\n",
    "        return fun(n//2,c)\n",
    "    else:\n",
    "        c+=1\n",
    "        return fun(3*n+1,c)\n",
    "a,b=map(int,input(\"give range\").split())\n",
    "for i in range(a,b+1):\n",
    "    l.append(fun(i,0))\n",
    "print(max(l))"
   ]
  },
  {
   "cell_type": "code",
   "execution_count": 45,
   "id": "a21b9e46",
   "metadata": {},
   "outputs": [
    {
     "name": "stdout",
     "output_type": "stream",
     "text": [
      "2\n"
     ]
    }
   ],
   "source": [
    "#7\n",
    "\n",
    "def ans(grid):\n",
    "    m=len(grid)\n",
    "    n=len(grid[0])\n",
    "    \n",
    "    min_minutes=0\n",
    "    directions=[(0,1),(1,0),(0,-1),(-1,0)]\n",
    "    \n",
    "    def valid(x,y):\n",
    "        if 0<=x<m and 0<=y<n:\n",
    "            return True\n",
    "        return False\n",
    "    \n",
    "    \n",
    "    while True:\n",
    "        change=False\n",
    "        for i in range(m):\n",
    "            for j in range(n):\n",
    "                if grid[i][j]==2:\n",
    "                    for dx,dy in directions:\n",
    "                        nx=i+dx\n",
    "                        ny=j+dy\n",
    "                        if valid(nx,ny) and grid[nx][ny]==1:\n",
    "                            grid[nx][ny]=2\n",
    "                            change=True\n",
    "        if change==False:\n",
    "            break\n",
    "            \n",
    "        min_minutes+=1\n",
    "        \n",
    "    for i in grid:\n",
    "        for j in i:\n",
    "            if j==1:\n",
    "                return -1\n",
    "    return min_minutes\n",
    "        \n",
    "\n",
    "\n",
    "\n",
    "grid=[[1,1,2],[1,1,1],[1,1,1]]\n",
    "\n",
    "print(ans(grid))\n"
   ]
  },
  {
   "cell_type": "code",
   "execution_count": 19,
   "id": "4e0eebd8",
   "metadata": {},
   "outputs": [],
   "source": [
    "#9\n",
    "\n",
    "#leave\n"
   ]
  },
  {
   "cell_type": "code",
   "execution_count": 24,
   "id": "b111ddd8",
   "metadata": {},
   "outputs": [
    {
     "name": "stdout",
     "output_type": "stream",
     "text": [
      "18\n",
      "['0', '1', '0', '0', '1']\n",
      "2\n"
     ]
    }
   ],
   "source": [
    "#11\n",
    "\n",
    "a=int(input())\n",
    "l=list(str(bin(a)).replace('0b',''))[::-1]\n",
    "print(l)\n",
    "c=0\n",
    "\n",
    "for i in l:\n",
    "    if i=='1':\n",
    "        c+=1\n",
    "        break\n",
    "    else:\n",
    "        c+=1\n",
    "print(c)"
   ]
  },
  {
   "cell_type": "code",
   "execution_count": 28,
   "id": "51bff308",
   "metadata": {},
   "outputs": [
    {
     "name": "stdout",
     "output_type": "stream",
     "text": [
      "target?7\n",
      "enter conis1 2\n",
      "[2, 2, 2, 1]\n",
      "4\n"
     ]
    }
   ],
   "source": [
    "#13\n",
    "\n",
    "t=int(input(\"target?\"))\n",
    "c=list(map(int,input(\"enter conis\").split()))\n",
    "\n",
    "c.sort(reverse=True)\n",
    "\n",
    "ans=[]\n",
    "for i in c:\n",
    "    while t>=i:\n",
    "        ans.append(i)\n",
    "        t-=i\n",
    "if t==0:\n",
    "    print(ans)\n",
    "    print(len(ans))\n",
    "else:\n",
    "    print(-1)"
   ]
  },
  {
   "cell_type": "code",
   "execution_count": null,
   "id": "79835bd2",
   "metadata": {},
   "outputs": [],
   "source": []
  }
 ],
 "metadata": {
  "kernelspec": {
   "display_name": "Python 3 (ipykernel)",
   "language": "python",
   "name": "python3"
  },
  "language_info": {
   "codemirror_mode": {
    "name": "ipython",
    "version": 3
   },
   "file_extension": ".py",
   "mimetype": "text/x-python",
   "name": "python",
   "nbconvert_exporter": "python",
   "pygments_lexer": "ipython3",
   "version": "3.11.6"
  }
 },
 "nbformat": 4,
 "nbformat_minor": 5
}
