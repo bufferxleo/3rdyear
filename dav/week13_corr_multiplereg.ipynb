{
 "cells": [
  {
   "cell_type": "code",
   "execution_count": 1,
   "id": "7eee8b0b",
   "metadata": {},
   "outputs": [],
   "source": [
    "import matplotlib.pyplot as plt\n",
    "import seaborn as sns\n",
    "import statistics as st\n",
    "import numpy as np\n",
    "import pandas as pd"
   ]
  },
  {
   "cell_type": "code",
   "execution_count": 2,
   "id": "d1fd4ab7",
   "metadata": {},
   "outputs": [],
   "source": [
    "from sklearn.datasets import load_digits"
   ]
  },
  {
   "cell_type": "code",
   "execution_count": 3,
   "id": "56ff27fb",
   "metadata": {},
   "outputs": [],
   "source": [
    "df=pd.DataFrame(load_digits().data)"
   ]
  },
  {
   "cell_type": "code",
   "execution_count": 4,
   "id": "ec7903f7",
   "metadata": {},
   "outputs": [],
   "source": [
    "df['target']=load_digits().target"
   ]
  },
  {
   "cell_type": "code",
   "execution_count": 5,
   "id": "264a6163",
   "metadata": {},
   "outputs": [],
   "source": [
    "from sklearn.linear_model import LogisticRegression\n",
    "from sklearn.model_selection import train_test_split\n",
    "reg=LogisticRegression(max_iter=10000)"
   ]
  },
  {
   "cell_type": "code",
   "execution_count": 6,
   "id": "e7d27665",
   "metadata": {},
   "outputs": [],
   "source": [
    "X,x,Y,y=train_test_split(df.drop('target',axis=1),df.target,test_size=0.3)"
   ]
  },
  {
   "cell_type": "code",
   "execution_count": 7,
   "id": "55ed41db",
   "metadata": {},
   "outputs": [
    {
     "data": {
      "text/html": [
       "<style>#sk-container-id-1 {color: black;}#sk-container-id-1 pre{padding: 0;}#sk-container-id-1 div.sk-toggleable {background-color: white;}#sk-container-id-1 label.sk-toggleable__label {cursor: pointer;display: block;width: 100%;margin-bottom: 0;padding: 0.3em;box-sizing: border-box;text-align: center;}#sk-container-id-1 label.sk-toggleable__label-arrow:before {content: \"▸\";float: left;margin-right: 0.25em;color: #696969;}#sk-container-id-1 label.sk-toggleable__label-arrow:hover:before {color: black;}#sk-container-id-1 div.sk-estimator:hover label.sk-toggleable__label-arrow:before {color: black;}#sk-container-id-1 div.sk-toggleable__content {max-height: 0;max-width: 0;overflow: hidden;text-align: left;background-color: #f0f8ff;}#sk-container-id-1 div.sk-toggleable__content pre {margin: 0.2em;color: black;border-radius: 0.25em;background-color: #f0f8ff;}#sk-container-id-1 input.sk-toggleable__control:checked~div.sk-toggleable__content {max-height: 200px;max-width: 100%;overflow: auto;}#sk-container-id-1 input.sk-toggleable__control:checked~label.sk-toggleable__label-arrow:before {content: \"▾\";}#sk-container-id-1 div.sk-estimator input.sk-toggleable__control:checked~label.sk-toggleable__label {background-color: #d4ebff;}#sk-container-id-1 div.sk-label input.sk-toggleable__control:checked~label.sk-toggleable__label {background-color: #d4ebff;}#sk-container-id-1 input.sk-hidden--visually {border: 0;clip: rect(1px 1px 1px 1px);clip: rect(1px, 1px, 1px, 1px);height: 1px;margin: -1px;overflow: hidden;padding: 0;position: absolute;width: 1px;}#sk-container-id-1 div.sk-estimator {font-family: monospace;background-color: #f0f8ff;border: 1px dotted black;border-radius: 0.25em;box-sizing: border-box;margin-bottom: 0.5em;}#sk-container-id-1 div.sk-estimator:hover {background-color: #d4ebff;}#sk-container-id-1 div.sk-parallel-item::after {content: \"\";width: 100%;border-bottom: 1px solid gray;flex-grow: 1;}#sk-container-id-1 div.sk-label:hover label.sk-toggleable__label {background-color: #d4ebff;}#sk-container-id-1 div.sk-serial::before {content: \"\";position: absolute;border-left: 1px solid gray;box-sizing: border-box;top: 0;bottom: 0;left: 50%;z-index: 0;}#sk-container-id-1 div.sk-serial {display: flex;flex-direction: column;align-items: center;background-color: white;padding-right: 0.2em;padding-left: 0.2em;position: relative;}#sk-container-id-1 div.sk-item {position: relative;z-index: 1;}#sk-container-id-1 div.sk-parallel {display: flex;align-items: stretch;justify-content: center;background-color: white;position: relative;}#sk-container-id-1 div.sk-item::before, #sk-container-id-1 div.sk-parallel-item::before {content: \"\";position: absolute;border-left: 1px solid gray;box-sizing: border-box;top: 0;bottom: 0;left: 50%;z-index: -1;}#sk-container-id-1 div.sk-parallel-item {display: flex;flex-direction: column;z-index: 1;position: relative;background-color: white;}#sk-container-id-1 div.sk-parallel-item:first-child::after {align-self: flex-end;width: 50%;}#sk-container-id-1 div.sk-parallel-item:last-child::after {align-self: flex-start;width: 50%;}#sk-container-id-1 div.sk-parallel-item:only-child::after {width: 0;}#sk-container-id-1 div.sk-dashed-wrapped {border: 1px dashed gray;margin: 0 0.4em 0.5em 0.4em;box-sizing: border-box;padding-bottom: 0.4em;background-color: white;}#sk-container-id-1 div.sk-label label {font-family: monospace;font-weight: bold;display: inline-block;line-height: 1.2em;}#sk-container-id-1 div.sk-label-container {text-align: center;}#sk-container-id-1 div.sk-container {/* jupyter's `normalize.less` sets `[hidden] { display: none; }` but bootstrap.min.css set `[hidden] { display: none !important; }` so we also need the `!important` here to be able to override the default hidden behavior on the sphinx rendered scikit-learn.org. See: https://github.com/scikit-learn/scikit-learn/issues/21755 */display: inline-block !important;position: relative;}#sk-container-id-1 div.sk-text-repr-fallback {display: none;}</style><div id=\"sk-container-id-1\" class=\"sk-top-container\"><div class=\"sk-text-repr-fallback\"><pre>LogisticRegression(max_iter=10000)</pre><b>In a Jupyter environment, please rerun this cell to show the HTML representation or trust the notebook. <br />On GitHub, the HTML representation is unable to render, please try loading this page with nbviewer.org.</b></div><div class=\"sk-container\" hidden><div class=\"sk-item\"><div class=\"sk-estimator sk-toggleable\"><input class=\"sk-toggleable__control sk-hidden--visually\" id=\"sk-estimator-id-1\" type=\"checkbox\" checked><label for=\"sk-estimator-id-1\" class=\"sk-toggleable__label sk-toggleable__label-arrow\">LogisticRegression</label><div class=\"sk-toggleable__content\"><pre>LogisticRegression(max_iter=10000)</pre></div></div></div></div></div>"
      ],
      "text/plain": [
       "LogisticRegression(max_iter=10000)"
      ]
     },
     "execution_count": 7,
     "metadata": {},
     "output_type": "execute_result"
    }
   ],
   "source": [
    "reg.fit(X,Y)"
   ]
  },
  {
   "cell_type": "code",
   "execution_count": 8,
   "id": "9ac70c9e",
   "metadata": {},
   "outputs": [
    {
     "data": {
      "text/plain": [
       "array([2, 4, 0, 4, 8, 6, 8, 5, 5, 6, 2, 9, 0, 5, 8, 9, 4, 6, 9, 7, 4, 1,\n",
       "       3, 0, 0, 1, 5, 1, 0, 4, 4, 6, 9, 4, 5, 3, 3, 4, 5, 6, 6, 5, 4, 3,\n",
       "       9, 5, 7, 5, 0, 0, 2, 9, 2, 2, 4, 0, 3, 6, 4, 1, 2, 4, 6, 2, 1, 0,\n",
       "       1, 5, 7, 4, 2, 6, 4, 5, 0, 7, 4, 6, 5, 5, 4, 4, 6, 3, 5, 5, 2, 3,\n",
       "       4, 8, 1, 8, 5, 7, 8, 8, 6, 0, 5, 8, 4, 9, 2, 0, 5, 2, 9, 4, 2, 0,\n",
       "       9, 2, 1, 3, 2, 6, 5, 5, 4, 3, 7, 1, 9, 5, 2, 9, 4, 7, 5, 9, 1, 0,\n",
       "       8, 8, 6, 8, 7, 7, 6, 6, 6, 0, 8, 5, 2, 8, 1, 0, 3, 8, 6, 8, 8, 3,\n",
       "       4, 4, 3, 2, 5, 9, 3, 0, 8, 7, 2, 6, 4, 8, 8, 3, 6, 7, 1, 2, 4, 4,\n",
       "       0, 2, 0, 7, 4, 9, 1, 0, 4, 1, 2, 4, 5, 4, 1, 9, 1, 3, 4, 8, 7, 6,\n",
       "       0, 3, 6, 9, 1, 6, 9, 8, 0, 0, 7, 3, 1, 8, 0, 2, 2, 0, 4, 8, 0, 7,\n",
       "       6, 3, 8, 0, 4, 4, 3, 4, 7, 0, 6, 9, 2, 5, 9, 1, 2, 7, 3, 9, 2, 8,\n",
       "       5, 0, 4, 6, 2, 9, 9, 1, 2, 4, 3, 9, 9, 5, 5, 0, 2, 1, 1, 6, 7, 7,\n",
       "       1, 5, 8, 0, 2, 7, 6, 9, 4, 3, 8, 8, 7, 5, 8, 7, 4, 3, 1, 2, 5, 9,\n",
       "       0, 9, 1, 7, 3, 2, 4, 6, 5, 2, 5, 3, 5, 4, 1, 3, 8, 0, 1, 2, 1, 3,\n",
       "       6, 0, 3, 1, 0, 8, 1, 6, 9, 7, 5, 2, 5, 3, 1, 8, 8, 6, 3, 9, 3, 4,\n",
       "       2, 3, 8, 9, 1, 3, 8, 5, 9, 7, 7, 9, 9, 0, 0, 3, 7, 1, 9, 3, 5, 5,\n",
       "       9, 0, 2, 2, 6, 0, 1, 8, 6, 5, 3, 2, 9, 5, 7, 6, 6, 7, 2, 3, 9, 9,\n",
       "       7, 9, 9, 9, 3, 1, 9, 1, 7, 2, 6, 9, 7, 7, 5, 7, 4, 8, 9, 1, 0, 8,\n",
       "       5, 4, 5, 8, 7, 6, 8, 7, 1, 1, 7, 9, 5, 0, 2, 5, 1, 5, 0, 5, 6, 5,\n",
       "       4, 3, 5, 0, 8, 9, 8, 8, 9, 7, 9, 7, 2, 3, 8, 8, 8, 9, 9, 5, 8, 2,\n",
       "       4, 5, 7, 6, 9, 5, 1, 6, 4, 1, 0, 4, 1, 0, 7, 8, 9, 8, 1, 3, 1, 4,\n",
       "       2, 2, 0, 7, 9, 4, 9, 8, 3, 5, 2, 5, 3, 1, 6, 1, 0, 7, 5, 7, 1, 8,\n",
       "       2, 5, 4, 1, 3, 0, 0, 1, 9, 4, 7, 8, 5, 8, 6, 8, 3, 1, 0, 2, 5, 6,\n",
       "       3, 3, 4, 1, 6, 4, 9, 1, 7, 6, 5, 2, 4, 7, 2, 6, 6, 0, 2, 7, 3, 7,\n",
       "       1, 7, 9, 9, 7, 7, 3, 9, 0, 9, 3, 1])"
      ]
     },
     "execution_count": 8,
     "metadata": {},
     "output_type": "execute_result"
    }
   ],
   "source": [
    "y_pred=reg.predict(x)\n",
    "y_pred"
   ]
  },
  {
   "cell_type": "code",
   "execution_count": 9,
   "id": "95a06857",
   "metadata": {},
   "outputs": [],
   "source": [
    "from sklearn.metrics import confusion_matrix"
   ]
  },
  {
   "cell_type": "code",
   "execution_count": 10,
   "id": "fd942bd5",
   "metadata": {},
   "outputs": [],
   "source": [
    "cm=confusion_matrix(y_pred,y)"
   ]
  },
  {
   "cell_type": "code",
   "execution_count": 11,
   "id": "791883e6",
   "metadata": {},
   "outputs": [
    {
     "data": {
      "text/plain": [
       "<AxesSubplot: >"
      ]
     },
     "execution_count": 11,
     "metadata": {},
     "output_type": "execute_result"
    },
    {
     "data": {
      "image/png": "[encoded data removed]",
      "text/plain": [
       "<Figure size 640x480 with 2 Axes>"
      ]
     },
     "metadata": {},
     "output_type": "display_data"
    }
   ],
   "source": [
    "sns.heatmap(cm,annot=True)"
   ]
  },
  {
   "cell_type": "code",
   "execution_count": null,
   "id": "88674614",
   "metadata": {},
   "outputs": [],
   "source": []
  },
  {
   "cell_type": "code",
   "execution_count": 12,
   "id": "282f1c85",
   "metadata": {},
   "outputs": [],
   "source": [
    "from sklearn.model_selection import cross_val_score"
   ]
  },
  {
   "cell_type": "code",
   "execution_count": 13,
   "id": "d8079b68",
   "metadata": {},
   "outputs": [],
   "source": [
    "from sklearn.linear_model import LinearRegression,LogisticRegression"
   ]
  },
  {
   "cell_type": "code",
   "execution_count": 14,
   "id": "08aeee4e",
   "metadata": {},
   "outputs": [],
   "source": [
    "from sklearn.linear_model import Ridge,Lasso"
   ]
  },
  {
   "cell_type": "code",
   "execution_count": 15,
   "id": "1035d596",
   "metadata": {},
   "outputs": [],
   "source": [
    "models=[LinearRegression(),LogisticRegression(max_iter=100000),Ridge(),Lasso()]"
   ]
  },
  {
   "cell_type": "code",
   "execution_count": 16,
   "id": "c08fd604",
   "metadata": {},
   "outputs": [
    {
     "name": "stdout",
     "output_type": "stream",
     "text": [
      "[0.49474968 0.48126593 0.55596023 0.51097263 0.51039022]\n",
      "[0.98148148 0.96296296 0.96296296 0.93518519 0.98148148]\n",
      "[0.4987169  0.49370232 0.62085147 0.54803441 0.50834947]\n",
      "[0.43552266 0.35817498 0.46870375 0.50484679 0.4056568 ]\n"
     ]
    }
   ],
   "source": [
    "for i in models:\n",
    "    i.fit(X,Y)\n",
    "    print(cross_val_score(i, x, y, cv=5))"
   ]
  },
  {
   "cell_type": "code",
   "execution_count": null,
   "id": "6979a2d0",
   "metadata": {},
   "outputs": [],
   "source": []
  }
 ],
 "metadata": {
  "kernelspec": {
   "display_name": "Python 3 (ipykernel)",
   "language": "python",
   "name": "python3"
  },
  "language_info": {
   "codemirror_mode": {
    "name": "ipython",
    "version": 3
   },
   "file_extension": ".py",
   "mimetype": "text/x-python",
   "name": "python",
   "nbconvert_exporter": "python",
   "pygments_lexer": "ipython3",
   "version": "3.11.6"
  }
 },
 "nbformat": 4,
 "nbformat_minor": 5
}
