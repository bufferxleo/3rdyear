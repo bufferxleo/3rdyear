{
 "cells": [
  {
   "cell_type": "code",
   "execution_count": 7,
   "id": "0baf7813",
   "metadata": {},
   "outputs": [],
   "source": [
    "import pandas as pd\n",
    "import numpy as np\n",
    "def remove_outliers(col):\n",
    "    q1=col.quantile(0.25)\n",
    "    q3=col.quantile(0.75)\n",
    "    iqr=q3-q1\n",
    "    h=q1-iqr*1.5\n",
    "    l=q3+iqr*1.5\n",
    "    return h,l\n",
    "\n",
    "from sklearn.datasets import load_iris\n",
    "iris=load_iris()\n",
    "col=pd.Series(iris.data[0])\n",
    "h,l=remove_outliers(col)\n",
    "col=np.where(col<l,l,col)\n",
    "col=np.where(col>h,h,col)\n",
    "\n",
    "col"
   ]
  },
  {
   "cell_type": "code",
   "execution_count": 9,
   "id": "7bd54247",
   "metadata": {},
   "outputs": [],
   "source": [
    "from geopy.geocoders import Nominatim"
   ]
  },
  {
   "cell_type": "code",
   "execution_count": null,
   "id": "aea06b8e",
   "metadata": {},
   "outputs": [],
   "source": [
    "def find_loc(lat,long):\n",
    "    geolocator=Nominatim(useragent=\"hi\")"
   ]
  }
 ],
 "metadata": {
  "kernelspec": {
   "display_name": "Python 3 (ipykernel)",
   "language": "python",
   "name": "python3"
  },
  "language_info": {
   "codemirror_mode": {
    "name": "ipython",
    "version": 3
   },
   "file_extension": ".py",
   "mimetype": "text/x-python",
   "name": "python",
   "nbconvert_exporter": "python",
   "pygments_lexer": "ipython3",
   "version": "3.11.6"
  }
 },
 "nbformat": 4,
 "nbformat_minor": 5
}
